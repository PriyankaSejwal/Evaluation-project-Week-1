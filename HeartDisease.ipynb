{
 "cells": [
  {
   "cell_type": "code",
   "execution_count": 2,
   "metadata": {},
   "outputs": [],
   "source": [
    "import pandas as pd\n",
    "import numpy as np\n",
    "import matplotlib.pyplot as plt\n",
    "import seaborn as sns\n",
    "import warnings\n",
    "warnings.filterwarnings('ignore')"
   ]
  },
  {
   "cell_type": "code",
   "execution_count": 3,
   "metadata": {},
   "outputs": [
    {
     "data": {
      "text/html": [
       "<div>\n",
       "<style scoped>\n",
       "    .dataframe tbody tr th:only-of-type {\n",
       "        vertical-align: middle;\n",
       "    }\n",
       "\n",
       "    .dataframe tbody tr th {\n",
       "        vertical-align: top;\n",
       "    }\n",
       "\n",
       "    .dataframe thead th {\n",
       "        text-align: right;\n",
       "    }\n",
       "</style>\n",
       "<table border=\"1\" class=\"dataframe\">\n",
       "  <thead>\n",
       "    <tr style=\"text-align: right;\">\n",
       "      <th></th>\n",
       "      <th>age</th>\n",
       "      <th>sex</th>\n",
       "      <th>cp</th>\n",
       "      <th>trestbps</th>\n",
       "      <th>chol</th>\n",
       "      <th>fbs</th>\n",
       "      <th>restecg</th>\n",
       "      <th>thalach</th>\n",
       "      <th>exang</th>\n",
       "      <th>oldpeak</th>\n",
       "      <th>slope</th>\n",
       "      <th>ca</th>\n",
       "      <th>thal</th>\n",
       "      <th>num</th>\n",
       "    </tr>\n",
       "  </thead>\n",
       "  <tbody>\n",
       "    <tr>\n",
       "      <th>0</th>\n",
       "      <td>63.0</td>\n",
       "      <td>1.0</td>\n",
       "      <td>1.0</td>\n",
       "      <td>145.0</td>\n",
       "      <td>233.0</td>\n",
       "      <td>1.0</td>\n",
       "      <td>2.0</td>\n",
       "      <td>150.0</td>\n",
       "      <td>0.0</td>\n",
       "      <td>2.3</td>\n",
       "      <td>3.0</td>\n",
       "      <td>0.0</td>\n",
       "      <td>6.0</td>\n",
       "      <td>0</td>\n",
       "    </tr>\n",
       "    <tr>\n",
       "      <th>1</th>\n",
       "      <td>67.0</td>\n",
       "      <td>1.0</td>\n",
       "      <td>4.0</td>\n",
       "      <td>160.0</td>\n",
       "      <td>286.0</td>\n",
       "      <td>0.0</td>\n",
       "      <td>2.0</td>\n",
       "      <td>108.0</td>\n",
       "      <td>1.0</td>\n",
       "      <td>1.5</td>\n",
       "      <td>2.0</td>\n",
       "      <td>3.0</td>\n",
       "      <td>3.0</td>\n",
       "      <td>2</td>\n",
       "    </tr>\n",
       "    <tr>\n",
       "      <th>2</th>\n",
       "      <td>67.0</td>\n",
       "      <td>1.0</td>\n",
       "      <td>4.0</td>\n",
       "      <td>120.0</td>\n",
       "      <td>229.0</td>\n",
       "      <td>0.0</td>\n",
       "      <td>2.0</td>\n",
       "      <td>129.0</td>\n",
       "      <td>1.0</td>\n",
       "      <td>2.6</td>\n",
       "      <td>2.0</td>\n",
       "      <td>2.0</td>\n",
       "      <td>7.0</td>\n",
       "      <td>1</td>\n",
       "    </tr>\n",
       "    <tr>\n",
       "      <th>3</th>\n",
       "      <td>37.0</td>\n",
       "      <td>1.0</td>\n",
       "      <td>3.0</td>\n",
       "      <td>130.0</td>\n",
       "      <td>250.0</td>\n",
       "      <td>0.0</td>\n",
       "      <td>0.0</td>\n",
       "      <td>187.0</td>\n",
       "      <td>0.0</td>\n",
       "      <td>3.5</td>\n",
       "      <td>3.0</td>\n",
       "      <td>0.0</td>\n",
       "      <td>3.0</td>\n",
       "      <td>0</td>\n",
       "    </tr>\n",
       "    <tr>\n",
       "      <th>4</th>\n",
       "      <td>41.0</td>\n",
       "      <td>0.0</td>\n",
       "      <td>2.0</td>\n",
       "      <td>130.0</td>\n",
       "      <td>204.0</td>\n",
       "      <td>0.0</td>\n",
       "      <td>2.0</td>\n",
       "      <td>172.0</td>\n",
       "      <td>0.0</td>\n",
       "      <td>1.4</td>\n",
       "      <td>1.0</td>\n",
       "      <td>0.0</td>\n",
       "      <td>3.0</td>\n",
       "      <td>0</td>\n",
       "    </tr>\n",
       "    <tr>\n",
       "      <th>...</th>\n",
       "      <td>...</td>\n",
       "      <td>...</td>\n",
       "      <td>...</td>\n",
       "      <td>...</td>\n",
       "      <td>...</td>\n",
       "      <td>...</td>\n",
       "      <td>...</td>\n",
       "      <td>...</td>\n",
       "      <td>...</td>\n",
       "      <td>...</td>\n",
       "      <td>...</td>\n",
       "      <td>...</td>\n",
       "      <td>...</td>\n",
       "      <td>...</td>\n",
       "    </tr>\n",
       "    <tr>\n",
       "      <th>298</th>\n",
       "      <td>45.0</td>\n",
       "      <td>1.0</td>\n",
       "      <td>1.0</td>\n",
       "      <td>110.0</td>\n",
       "      <td>264.0</td>\n",
       "      <td>0.0</td>\n",
       "      <td>0.0</td>\n",
       "      <td>132.0</td>\n",
       "      <td>0.0</td>\n",
       "      <td>1.2</td>\n",
       "      <td>2.0</td>\n",
       "      <td>0.0</td>\n",
       "      <td>7.0</td>\n",
       "      <td>1</td>\n",
       "    </tr>\n",
       "    <tr>\n",
       "      <th>299</th>\n",
       "      <td>68.0</td>\n",
       "      <td>1.0</td>\n",
       "      <td>4.0</td>\n",
       "      <td>144.0</td>\n",
       "      <td>193.0</td>\n",
       "      <td>1.0</td>\n",
       "      <td>0.0</td>\n",
       "      <td>141.0</td>\n",
       "      <td>0.0</td>\n",
       "      <td>3.4</td>\n",
       "      <td>2.0</td>\n",
       "      <td>2.0</td>\n",
       "      <td>7.0</td>\n",
       "      <td>2</td>\n",
       "    </tr>\n",
       "    <tr>\n",
       "      <th>300</th>\n",
       "      <td>57.0</td>\n",
       "      <td>1.0</td>\n",
       "      <td>4.0</td>\n",
       "      <td>130.0</td>\n",
       "      <td>131.0</td>\n",
       "      <td>0.0</td>\n",
       "      <td>0.0</td>\n",
       "      <td>115.0</td>\n",
       "      <td>1.0</td>\n",
       "      <td>1.2</td>\n",
       "      <td>2.0</td>\n",
       "      <td>1.0</td>\n",
       "      <td>7.0</td>\n",
       "      <td>3</td>\n",
       "    </tr>\n",
       "    <tr>\n",
       "      <th>301</th>\n",
       "      <td>57.0</td>\n",
       "      <td>0.0</td>\n",
       "      <td>2.0</td>\n",
       "      <td>130.0</td>\n",
       "      <td>236.0</td>\n",
       "      <td>0.0</td>\n",
       "      <td>2.0</td>\n",
       "      <td>174.0</td>\n",
       "      <td>0.0</td>\n",
       "      <td>0.0</td>\n",
       "      <td>2.0</td>\n",
       "      <td>1.0</td>\n",
       "      <td>3.0</td>\n",
       "      <td>1</td>\n",
       "    </tr>\n",
       "    <tr>\n",
       "      <th>302</th>\n",
       "      <td>38.0</td>\n",
       "      <td>1.0</td>\n",
       "      <td>3.0</td>\n",
       "      <td>138.0</td>\n",
       "      <td>175.0</td>\n",
       "      <td>0.0</td>\n",
       "      <td>0.0</td>\n",
       "      <td>173.0</td>\n",
       "      <td>0.0</td>\n",
       "      <td>0.0</td>\n",
       "      <td>1.0</td>\n",
       "      <td>NaN</td>\n",
       "      <td>3.0</td>\n",
       "      <td>0</td>\n",
       "    </tr>\n",
       "  </tbody>\n",
       "</table>\n",
       "<p>303 rows × 14 columns</p>\n",
       "</div>"
      ],
      "text/plain": [
       "      age  sex   cp  trestbps   chol  fbs  restecg  thalach  exang  oldpeak  \\\n",
       "0    63.0  1.0  1.0     145.0  233.0  1.0      2.0    150.0    0.0      2.3   \n",
       "1    67.0  1.0  4.0     160.0  286.0  0.0      2.0    108.0    1.0      1.5   \n",
       "2    67.0  1.0  4.0     120.0  229.0  0.0      2.0    129.0    1.0      2.6   \n",
       "3    37.0  1.0  3.0     130.0  250.0  0.0      0.0    187.0    0.0      3.5   \n",
       "4    41.0  0.0  2.0     130.0  204.0  0.0      2.0    172.0    0.0      1.4   \n",
       "..    ...  ...  ...       ...    ...  ...      ...      ...    ...      ...   \n",
       "298  45.0  1.0  1.0     110.0  264.0  0.0      0.0    132.0    0.0      1.2   \n",
       "299  68.0  1.0  4.0     144.0  193.0  1.0      0.0    141.0    0.0      3.4   \n",
       "300  57.0  1.0  4.0     130.0  131.0  0.0      0.0    115.0    1.0      1.2   \n",
       "301  57.0  0.0  2.0     130.0  236.0  0.0      2.0    174.0    0.0      0.0   \n",
       "302  38.0  1.0  3.0     138.0  175.0  0.0      0.0    173.0    0.0      0.0   \n",
       "\n",
       "     slope   ca  thal  num  \n",
       "0      3.0  0.0   6.0    0  \n",
       "1      2.0  3.0   3.0    2  \n",
       "2      2.0  2.0   7.0    1  \n",
       "3      3.0  0.0   3.0    0  \n",
       "4      1.0  0.0   3.0    0  \n",
       "..     ...  ...   ...  ...  \n",
       "298    2.0  0.0   7.0    1  \n",
       "299    2.0  2.0   7.0    2  \n",
       "300    2.0  1.0   7.0    3  \n",
       "301    2.0  1.0   3.0    1  \n",
       "302    1.0  NaN   3.0    0  \n",
       "\n",
       "[303 rows x 14 columns]"
      ]
     },
     "execution_count": 3,
     "metadata": {},
     "output_type": "execute_result"
    }
   ],
   "source": [
    "data=pd.read_csv('heart.csv',na_values='?')\n",
    "data"
   ]
  },
  {
   "cell_type": "markdown",
   "metadata": {},
   "source": [
    "Here:\n",
    "1. Age is the age of the patient in years.\n",
    "2. sex is the gender denoted by 0-female or 1-male.\n",
    "3. cp is the chest pain type:\n",
    "    value 1: typical angina\n",
    "    value 2: atypical angina\n",
    "    value 3: non-anginal pain\n",
    "    value 4: asymptomatic\n",
    "4. trestbps is the resting blood pressure.\n",
    "5. chol is the serum cholestrol.\n",
    "6. fbs is the fasting blood sugar 1 is true, 0 is false.\n",
    "7. restecg is the resting electrocardiographic results with values 0, 1, 2:\n",
    "    value 0: normal\n",
    "    value1: having ST-T wave abnormality\n",
    "    value 2: showing probable left venticular hypertrophy by Estes criteria.\n",
    "8. thalach is the maximum heartbeat achieved.\n",
    "9. exang is the exercise enducing angina with 1 as yes and 0 as no.\n",
    "10. oldpeak is the ST depression induced by exercise relative to rest.\n",
    "11. slope is the slope of the peak exercise ST segment with values 1,2,3:\n",
    "    value 1: upsloping\n",
    "    value 2: flat\n",
    "    value 3: downsloping\n",
    "12. ca is the number of major vessels(0-3) colored by flourosopy.\n",
    "13. thal : 3-normal, 6-fixed defect, 7-reversible defect\n",
    "14. num is the target variable that tells the diagnosis of heart disease with values as 0, 1,2"
   ]
  },
  {
   "cell_type": "code",
   "execution_count": 4,
   "metadata": {},
   "outputs": [
    {
     "data": {
      "text/plain": [
       "(303, 14)"
      ]
     },
     "execution_count": 4,
     "metadata": {},
     "output_type": "execute_result"
    }
   ],
   "source": [
    "data.shape"
   ]
  },
  {
   "cell_type": "code",
   "execution_count": 5,
   "metadata": {},
   "outputs": [
    {
     "data": {
      "text/plain": [
       "age         0\n",
       "sex         0\n",
       "cp          0\n",
       "trestbps    0\n",
       "chol        0\n",
       "fbs         0\n",
       "restecg     0\n",
       "thalach     0\n",
       "exang       0\n",
       "oldpeak     0\n",
       "slope       0\n",
       "ca          4\n",
       "thal        2\n",
       "num         0\n",
       "dtype: int64"
      ]
     },
     "execution_count": 5,
     "metadata": {},
     "output_type": "execute_result"
    }
   ],
   "source": [
    "data.isnull().sum()"
   ]
  },
  {
   "cell_type": "markdown",
   "metadata": {},
   "source": [
    "1. features ca and thal have few entries as null."
   ]
  },
  {
   "cell_type": "code",
   "execution_count": 6,
   "metadata": {},
   "outputs": [
    {
     "name": "stdout",
     "output_type": "stream",
     "text": [
      "<class 'pandas.core.frame.DataFrame'>\n",
      "RangeIndex: 303 entries, 0 to 302\n",
      "Data columns (total 14 columns):\n",
      " #   Column    Non-Null Count  Dtype  \n",
      "---  ------    --------------  -----  \n",
      " 0   age       303 non-null    float64\n",
      " 1   sex       303 non-null    float64\n",
      " 2   cp        303 non-null    float64\n",
      " 3   trestbps  303 non-null    float64\n",
      " 4   chol      303 non-null    float64\n",
      " 5   fbs       303 non-null    float64\n",
      " 6   restecg   303 non-null    float64\n",
      " 7   thalach   303 non-null    float64\n",
      " 8   exang     303 non-null    float64\n",
      " 9   oldpeak   303 non-null    float64\n",
      " 10  slope     303 non-null    float64\n",
      " 11  ca        299 non-null    float64\n",
      " 12  thal      301 non-null    float64\n",
      " 13  num       303 non-null    int64  \n",
      "dtypes: float64(13), int64(1)\n",
      "memory usage: 33.3 KB\n"
     ]
    }
   ],
   "source": [
    "data.info()"
   ]
  },
  {
   "cell_type": "markdown",
   "metadata": {},
   "source": [
    "All the features are of float type except our target variable num."
   ]
  },
  {
   "cell_type": "code",
   "execution_count": 7,
   "metadata": {},
   "outputs": [
    {
     "data": {
      "text/plain": [
       "age         float64\n",
       "sex         float64\n",
       "cp          float64\n",
       "trestbps    float64\n",
       "chol        float64\n",
       "fbs         float64\n",
       "restecg     float64\n",
       "thalach     float64\n",
       "exang       float64\n",
       "oldpeak     float64\n",
       "slope       float64\n",
       "ca          float64\n",
       "thal        float64\n",
       "num           int64\n",
       "dtype: object"
      ]
     },
     "execution_count": 7,
     "metadata": {},
     "output_type": "execute_result"
    }
   ],
   "source": [
    "data.dtypes"
   ]
  },
  {
   "cell_type": "code",
   "execution_count": 8,
   "metadata": {},
   "outputs": [
    {
     "data": {
      "text/html": [
       "<div>\n",
       "<style scoped>\n",
       "    .dataframe tbody tr th:only-of-type {\n",
       "        vertical-align: middle;\n",
       "    }\n",
       "\n",
       "    .dataframe tbody tr th {\n",
       "        vertical-align: top;\n",
       "    }\n",
       "\n",
       "    .dataframe thead th {\n",
       "        text-align: right;\n",
       "    }\n",
       "</style>\n",
       "<table border=\"1\" class=\"dataframe\">\n",
       "  <thead>\n",
       "    <tr style=\"text-align: right;\">\n",
       "      <th></th>\n",
       "      <th>age</th>\n",
       "      <th>sex</th>\n",
       "      <th>cp</th>\n",
       "      <th>trestbps</th>\n",
       "      <th>chol</th>\n",
       "      <th>fbs</th>\n",
       "      <th>restecg</th>\n",
       "      <th>thalach</th>\n",
       "      <th>exang</th>\n",
       "      <th>oldpeak</th>\n",
       "      <th>slope</th>\n",
       "      <th>ca</th>\n",
       "      <th>thal</th>\n",
       "      <th>num</th>\n",
       "    </tr>\n",
       "  </thead>\n",
       "  <tbody>\n",
       "    <tr>\n",
       "      <th>count</th>\n",
       "      <td>303.000000</td>\n",
       "      <td>303.000000</td>\n",
       "      <td>303.000000</td>\n",
       "      <td>303.000000</td>\n",
       "      <td>303.000000</td>\n",
       "      <td>303.000000</td>\n",
       "      <td>303.000000</td>\n",
       "      <td>303.000000</td>\n",
       "      <td>303.000000</td>\n",
       "      <td>303.000000</td>\n",
       "      <td>303.000000</td>\n",
       "      <td>299.000000</td>\n",
       "      <td>301.000000</td>\n",
       "      <td>303.000000</td>\n",
       "    </tr>\n",
       "    <tr>\n",
       "      <th>mean</th>\n",
       "      <td>54.438944</td>\n",
       "      <td>0.679868</td>\n",
       "      <td>3.158416</td>\n",
       "      <td>131.689769</td>\n",
       "      <td>246.693069</td>\n",
       "      <td>0.148515</td>\n",
       "      <td>0.990099</td>\n",
       "      <td>149.607261</td>\n",
       "      <td>0.326733</td>\n",
       "      <td>1.039604</td>\n",
       "      <td>1.600660</td>\n",
       "      <td>0.672241</td>\n",
       "      <td>4.734219</td>\n",
       "      <td>0.937294</td>\n",
       "    </tr>\n",
       "    <tr>\n",
       "      <th>std</th>\n",
       "      <td>9.038662</td>\n",
       "      <td>0.467299</td>\n",
       "      <td>0.960126</td>\n",
       "      <td>17.599748</td>\n",
       "      <td>51.776918</td>\n",
       "      <td>0.356198</td>\n",
       "      <td>0.994971</td>\n",
       "      <td>22.875003</td>\n",
       "      <td>0.469794</td>\n",
       "      <td>1.161075</td>\n",
       "      <td>0.616226</td>\n",
       "      <td>0.937438</td>\n",
       "      <td>1.939706</td>\n",
       "      <td>1.228536</td>\n",
       "    </tr>\n",
       "    <tr>\n",
       "      <th>min</th>\n",
       "      <td>29.000000</td>\n",
       "      <td>0.000000</td>\n",
       "      <td>1.000000</td>\n",
       "      <td>94.000000</td>\n",
       "      <td>126.000000</td>\n",
       "      <td>0.000000</td>\n",
       "      <td>0.000000</td>\n",
       "      <td>71.000000</td>\n",
       "      <td>0.000000</td>\n",
       "      <td>0.000000</td>\n",
       "      <td>1.000000</td>\n",
       "      <td>0.000000</td>\n",
       "      <td>3.000000</td>\n",
       "      <td>0.000000</td>\n",
       "    </tr>\n",
       "    <tr>\n",
       "      <th>25%</th>\n",
       "      <td>48.000000</td>\n",
       "      <td>0.000000</td>\n",
       "      <td>3.000000</td>\n",
       "      <td>120.000000</td>\n",
       "      <td>211.000000</td>\n",
       "      <td>0.000000</td>\n",
       "      <td>0.000000</td>\n",
       "      <td>133.500000</td>\n",
       "      <td>0.000000</td>\n",
       "      <td>0.000000</td>\n",
       "      <td>1.000000</td>\n",
       "      <td>0.000000</td>\n",
       "      <td>3.000000</td>\n",
       "      <td>0.000000</td>\n",
       "    </tr>\n",
       "    <tr>\n",
       "      <th>50%</th>\n",
       "      <td>56.000000</td>\n",
       "      <td>1.000000</td>\n",
       "      <td>3.000000</td>\n",
       "      <td>130.000000</td>\n",
       "      <td>241.000000</td>\n",
       "      <td>0.000000</td>\n",
       "      <td>1.000000</td>\n",
       "      <td>153.000000</td>\n",
       "      <td>0.000000</td>\n",
       "      <td>0.800000</td>\n",
       "      <td>2.000000</td>\n",
       "      <td>0.000000</td>\n",
       "      <td>3.000000</td>\n",
       "      <td>0.000000</td>\n",
       "    </tr>\n",
       "    <tr>\n",
       "      <th>75%</th>\n",
       "      <td>61.000000</td>\n",
       "      <td>1.000000</td>\n",
       "      <td>4.000000</td>\n",
       "      <td>140.000000</td>\n",
       "      <td>275.000000</td>\n",
       "      <td>0.000000</td>\n",
       "      <td>2.000000</td>\n",
       "      <td>166.000000</td>\n",
       "      <td>1.000000</td>\n",
       "      <td>1.600000</td>\n",
       "      <td>2.000000</td>\n",
       "      <td>1.000000</td>\n",
       "      <td>7.000000</td>\n",
       "      <td>2.000000</td>\n",
       "    </tr>\n",
       "    <tr>\n",
       "      <th>max</th>\n",
       "      <td>77.000000</td>\n",
       "      <td>1.000000</td>\n",
       "      <td>4.000000</td>\n",
       "      <td>200.000000</td>\n",
       "      <td>564.000000</td>\n",
       "      <td>1.000000</td>\n",
       "      <td>2.000000</td>\n",
       "      <td>202.000000</td>\n",
       "      <td>1.000000</td>\n",
       "      <td>6.200000</td>\n",
       "      <td>3.000000</td>\n",
       "      <td>3.000000</td>\n",
       "      <td>7.000000</td>\n",
       "      <td>4.000000</td>\n",
       "    </tr>\n",
       "  </tbody>\n",
       "</table>\n",
       "</div>"
      ],
      "text/plain": [
       "              age         sex          cp    trestbps        chol         fbs  \\\n",
       "count  303.000000  303.000000  303.000000  303.000000  303.000000  303.000000   \n",
       "mean    54.438944    0.679868    3.158416  131.689769  246.693069    0.148515   \n",
       "std      9.038662    0.467299    0.960126   17.599748   51.776918    0.356198   \n",
       "min     29.000000    0.000000    1.000000   94.000000  126.000000    0.000000   \n",
       "25%     48.000000    0.000000    3.000000  120.000000  211.000000    0.000000   \n",
       "50%     56.000000    1.000000    3.000000  130.000000  241.000000    0.000000   \n",
       "75%     61.000000    1.000000    4.000000  140.000000  275.000000    0.000000   \n",
       "max     77.000000    1.000000    4.000000  200.000000  564.000000    1.000000   \n",
       "\n",
       "          restecg     thalach       exang     oldpeak       slope          ca  \\\n",
       "count  303.000000  303.000000  303.000000  303.000000  303.000000  299.000000   \n",
       "mean     0.990099  149.607261    0.326733    1.039604    1.600660    0.672241   \n",
       "std      0.994971   22.875003    0.469794    1.161075    0.616226    0.937438   \n",
       "min      0.000000   71.000000    0.000000    0.000000    1.000000    0.000000   \n",
       "25%      0.000000  133.500000    0.000000    0.000000    1.000000    0.000000   \n",
       "50%      1.000000  153.000000    0.000000    0.800000    2.000000    0.000000   \n",
       "75%      2.000000  166.000000    1.000000    1.600000    2.000000    1.000000   \n",
       "max      2.000000  202.000000    1.000000    6.200000    3.000000    3.000000   \n",
       "\n",
       "             thal         num  \n",
       "count  301.000000  303.000000  \n",
       "mean     4.734219    0.937294  \n",
       "std      1.939706    1.228536  \n",
       "min      3.000000    0.000000  \n",
       "25%      3.000000    0.000000  \n",
       "50%      3.000000    0.000000  \n",
       "75%      7.000000    2.000000  \n",
       "max      7.000000    4.000000  "
      ]
     },
     "execution_count": 8,
     "metadata": {},
     "output_type": "execute_result"
    }
   ],
   "source": [
    "data.describe()"
   ]
  },
  {
   "cell_type": "markdown",
   "metadata": {},
   "source": [
    "1. Age feature shows that the min age for patient is 29 and maximum age is 77.\n",
    "2. ca and thal have null values as their count is not 303.\n",
    "3. Standard Deviation for chol is high.\n",
    "4. Trestbps, chol, thalach,oldpeak are the features in which there is a huge difference between the 75 percentile and the max. So this might indicate the presence of outliers.\n",
    "5. Mean is higher than median  for all the features we can say that our data is skewed."
   ]
  },
  {
   "cell_type": "code",
   "execution_count": 9,
   "metadata": {},
   "outputs": [
    {
     "data": {
      "text/html": [
       "<div>\n",
       "<style scoped>\n",
       "    .dataframe tbody tr th:only-of-type {\n",
       "        vertical-align: middle;\n",
       "    }\n",
       "\n",
       "    .dataframe tbody tr th {\n",
       "        vertical-align: top;\n",
       "    }\n",
       "\n",
       "    .dataframe thead th {\n",
       "        text-align: right;\n",
       "    }\n",
       "</style>\n",
       "<table border=\"1\" class=\"dataframe\">\n",
       "  <thead>\n",
       "    <tr style=\"text-align: right;\">\n",
       "      <th></th>\n",
       "      <th>age</th>\n",
       "      <th>sex</th>\n",
       "      <th>cp</th>\n",
       "      <th>trestbps</th>\n",
       "      <th>chol</th>\n",
       "      <th>fbs</th>\n",
       "      <th>restecg</th>\n",
       "      <th>thalach</th>\n",
       "      <th>exang</th>\n",
       "      <th>oldpeak</th>\n",
       "      <th>slope</th>\n",
       "      <th>ca</th>\n",
       "      <th>thal</th>\n",
       "      <th>num</th>\n",
       "    </tr>\n",
       "  </thead>\n",
       "  <tbody>\n",
       "    <tr>\n",
       "      <th>age</th>\n",
       "      <td>1.000000</td>\n",
       "      <td>-0.097542</td>\n",
       "      <td>0.104139</td>\n",
       "      <td>0.284946</td>\n",
       "      <td>0.208950</td>\n",
       "      <td>0.118530</td>\n",
       "      <td>0.148868</td>\n",
       "      <td>-0.393806</td>\n",
       "      <td>0.091661</td>\n",
       "      <td>0.203805</td>\n",
       "      <td>0.161770</td>\n",
       "      <td>0.362605</td>\n",
       "      <td>0.127389</td>\n",
       "      <td>0.222853</td>\n",
       "    </tr>\n",
       "    <tr>\n",
       "      <th>sex</th>\n",
       "      <td>-0.097542</td>\n",
       "      <td>1.000000</td>\n",
       "      <td>0.010084</td>\n",
       "      <td>-0.064456</td>\n",
       "      <td>-0.199915</td>\n",
       "      <td>0.047862</td>\n",
       "      <td>0.021647</td>\n",
       "      <td>-0.048663</td>\n",
       "      <td>0.146201</td>\n",
       "      <td>0.102173</td>\n",
       "      <td>0.037533</td>\n",
       "      <td>0.093185</td>\n",
       "      <td>0.380936</td>\n",
       "      <td>0.224469</td>\n",
       "    </tr>\n",
       "    <tr>\n",
       "      <th>cp</th>\n",
       "      <td>0.104139</td>\n",
       "      <td>0.010084</td>\n",
       "      <td>1.000000</td>\n",
       "      <td>-0.036077</td>\n",
       "      <td>0.072319</td>\n",
       "      <td>-0.039975</td>\n",
       "      <td>0.067505</td>\n",
       "      <td>-0.334422</td>\n",
       "      <td>0.384060</td>\n",
       "      <td>0.202277</td>\n",
       "      <td>0.152050</td>\n",
       "      <td>0.233214</td>\n",
       "      <td>0.265246</td>\n",
       "      <td>0.407075</td>\n",
       "    </tr>\n",
       "    <tr>\n",
       "      <th>trestbps</th>\n",
       "      <td>0.284946</td>\n",
       "      <td>-0.064456</td>\n",
       "      <td>-0.036077</td>\n",
       "      <td>1.000000</td>\n",
       "      <td>0.130120</td>\n",
       "      <td>0.175340</td>\n",
       "      <td>0.146560</td>\n",
       "      <td>-0.045351</td>\n",
       "      <td>0.064762</td>\n",
       "      <td>0.189171</td>\n",
       "      <td>0.117382</td>\n",
       "      <td>0.098773</td>\n",
       "      <td>0.133554</td>\n",
       "      <td>0.157754</td>\n",
       "    </tr>\n",
       "    <tr>\n",
       "      <th>chol</th>\n",
       "      <td>0.208950</td>\n",
       "      <td>-0.199915</td>\n",
       "      <td>0.072319</td>\n",
       "      <td>0.130120</td>\n",
       "      <td>1.000000</td>\n",
       "      <td>0.009841</td>\n",
       "      <td>0.171043</td>\n",
       "      <td>-0.003432</td>\n",
       "      <td>0.061310</td>\n",
       "      <td>0.046564</td>\n",
       "      <td>-0.004062</td>\n",
       "      <td>0.119000</td>\n",
       "      <td>0.014214</td>\n",
       "      <td>0.070909</td>\n",
       "    </tr>\n",
       "    <tr>\n",
       "      <th>fbs</th>\n",
       "      <td>0.118530</td>\n",
       "      <td>0.047862</td>\n",
       "      <td>-0.039975</td>\n",
       "      <td>0.175340</td>\n",
       "      <td>0.009841</td>\n",
       "      <td>1.000000</td>\n",
       "      <td>0.069564</td>\n",
       "      <td>-0.007854</td>\n",
       "      <td>0.025665</td>\n",
       "      <td>0.005747</td>\n",
       "      <td>0.059894</td>\n",
       "      <td>0.145478</td>\n",
       "      <td>0.071358</td>\n",
       "      <td>0.059186</td>\n",
       "    </tr>\n",
       "    <tr>\n",
       "      <th>restecg</th>\n",
       "      <td>0.148868</td>\n",
       "      <td>0.021647</td>\n",
       "      <td>0.067505</td>\n",
       "      <td>0.146560</td>\n",
       "      <td>0.171043</td>\n",
       "      <td>0.069564</td>\n",
       "      <td>1.000000</td>\n",
       "      <td>-0.083389</td>\n",
       "      <td>0.084867</td>\n",
       "      <td>0.114133</td>\n",
       "      <td>0.133946</td>\n",
       "      <td>0.128343</td>\n",
       "      <td>0.024531</td>\n",
       "      <td>0.183696</td>\n",
       "    </tr>\n",
       "    <tr>\n",
       "      <th>thalach</th>\n",
       "      <td>-0.393806</td>\n",
       "      <td>-0.048663</td>\n",
       "      <td>-0.334422</td>\n",
       "      <td>-0.045351</td>\n",
       "      <td>-0.003432</td>\n",
       "      <td>-0.007854</td>\n",
       "      <td>-0.083389</td>\n",
       "      <td>1.000000</td>\n",
       "      <td>-0.378103</td>\n",
       "      <td>-0.343085</td>\n",
       "      <td>-0.385601</td>\n",
       "      <td>-0.264246</td>\n",
       "      <td>-0.279631</td>\n",
       "      <td>-0.415040</td>\n",
       "    </tr>\n",
       "    <tr>\n",
       "      <th>exang</th>\n",
       "      <td>0.091661</td>\n",
       "      <td>0.146201</td>\n",
       "      <td>0.384060</td>\n",
       "      <td>0.064762</td>\n",
       "      <td>0.061310</td>\n",
       "      <td>0.025665</td>\n",
       "      <td>0.084867</td>\n",
       "      <td>-0.378103</td>\n",
       "      <td>1.000000</td>\n",
       "      <td>0.288223</td>\n",
       "      <td>0.257748</td>\n",
       "      <td>0.145570</td>\n",
       "      <td>0.329680</td>\n",
       "      <td>0.397057</td>\n",
       "    </tr>\n",
       "    <tr>\n",
       "      <th>oldpeak</th>\n",
       "      <td>0.203805</td>\n",
       "      <td>0.102173</td>\n",
       "      <td>0.202277</td>\n",
       "      <td>0.189171</td>\n",
       "      <td>0.046564</td>\n",
       "      <td>0.005747</td>\n",
       "      <td>0.114133</td>\n",
       "      <td>-0.343085</td>\n",
       "      <td>0.288223</td>\n",
       "      <td>1.000000</td>\n",
       "      <td>0.577537</td>\n",
       "      <td>0.295832</td>\n",
       "      <td>0.341004</td>\n",
       "      <td>0.504092</td>\n",
       "    </tr>\n",
       "    <tr>\n",
       "      <th>slope</th>\n",
       "      <td>0.161770</td>\n",
       "      <td>0.037533</td>\n",
       "      <td>0.152050</td>\n",
       "      <td>0.117382</td>\n",
       "      <td>-0.004062</td>\n",
       "      <td>0.059894</td>\n",
       "      <td>0.133946</td>\n",
       "      <td>-0.385601</td>\n",
       "      <td>0.257748</td>\n",
       "      <td>0.577537</td>\n",
       "      <td>1.000000</td>\n",
       "      <td>0.110119</td>\n",
       "      <td>0.287232</td>\n",
       "      <td>0.377957</td>\n",
       "    </tr>\n",
       "    <tr>\n",
       "      <th>ca</th>\n",
       "      <td>0.362605</td>\n",
       "      <td>0.093185</td>\n",
       "      <td>0.233214</td>\n",
       "      <td>0.098773</td>\n",
       "      <td>0.119000</td>\n",
       "      <td>0.145478</td>\n",
       "      <td>0.128343</td>\n",
       "      <td>-0.264246</td>\n",
       "      <td>0.145570</td>\n",
       "      <td>0.295832</td>\n",
       "      <td>0.110119</td>\n",
       "      <td>1.000000</td>\n",
       "      <td>0.256382</td>\n",
       "      <td>0.518909</td>\n",
       "    </tr>\n",
       "    <tr>\n",
       "      <th>thal</th>\n",
       "      <td>0.127389</td>\n",
       "      <td>0.380936</td>\n",
       "      <td>0.265246</td>\n",
       "      <td>0.133554</td>\n",
       "      <td>0.014214</td>\n",
       "      <td>0.071358</td>\n",
       "      <td>0.024531</td>\n",
       "      <td>-0.279631</td>\n",
       "      <td>0.329680</td>\n",
       "      <td>0.341004</td>\n",
       "      <td>0.287232</td>\n",
       "      <td>0.256382</td>\n",
       "      <td>1.000000</td>\n",
       "      <td>0.509923</td>\n",
       "    </tr>\n",
       "    <tr>\n",
       "      <th>num</th>\n",
       "      <td>0.222853</td>\n",
       "      <td>0.224469</td>\n",
       "      <td>0.407075</td>\n",
       "      <td>0.157754</td>\n",
       "      <td>0.070909</td>\n",
       "      <td>0.059186</td>\n",
       "      <td>0.183696</td>\n",
       "      <td>-0.415040</td>\n",
       "      <td>0.397057</td>\n",
       "      <td>0.504092</td>\n",
       "      <td>0.377957</td>\n",
       "      <td>0.518909</td>\n",
       "      <td>0.509923</td>\n",
       "      <td>1.000000</td>\n",
       "    </tr>\n",
       "  </tbody>\n",
       "</table>\n",
       "</div>"
      ],
      "text/plain": [
       "               age       sex        cp  trestbps      chol       fbs  \\\n",
       "age       1.000000 -0.097542  0.104139  0.284946  0.208950  0.118530   \n",
       "sex      -0.097542  1.000000  0.010084 -0.064456 -0.199915  0.047862   \n",
       "cp        0.104139  0.010084  1.000000 -0.036077  0.072319 -0.039975   \n",
       "trestbps  0.284946 -0.064456 -0.036077  1.000000  0.130120  0.175340   \n",
       "chol      0.208950 -0.199915  0.072319  0.130120  1.000000  0.009841   \n",
       "fbs       0.118530  0.047862 -0.039975  0.175340  0.009841  1.000000   \n",
       "restecg   0.148868  0.021647  0.067505  0.146560  0.171043  0.069564   \n",
       "thalach  -0.393806 -0.048663 -0.334422 -0.045351 -0.003432 -0.007854   \n",
       "exang     0.091661  0.146201  0.384060  0.064762  0.061310  0.025665   \n",
       "oldpeak   0.203805  0.102173  0.202277  0.189171  0.046564  0.005747   \n",
       "slope     0.161770  0.037533  0.152050  0.117382 -0.004062  0.059894   \n",
       "ca        0.362605  0.093185  0.233214  0.098773  0.119000  0.145478   \n",
       "thal      0.127389  0.380936  0.265246  0.133554  0.014214  0.071358   \n",
       "num       0.222853  0.224469  0.407075  0.157754  0.070909  0.059186   \n",
       "\n",
       "           restecg   thalach     exang   oldpeak     slope        ca  \\\n",
       "age       0.148868 -0.393806  0.091661  0.203805  0.161770  0.362605   \n",
       "sex       0.021647 -0.048663  0.146201  0.102173  0.037533  0.093185   \n",
       "cp        0.067505 -0.334422  0.384060  0.202277  0.152050  0.233214   \n",
       "trestbps  0.146560 -0.045351  0.064762  0.189171  0.117382  0.098773   \n",
       "chol      0.171043 -0.003432  0.061310  0.046564 -0.004062  0.119000   \n",
       "fbs       0.069564 -0.007854  0.025665  0.005747  0.059894  0.145478   \n",
       "restecg   1.000000 -0.083389  0.084867  0.114133  0.133946  0.128343   \n",
       "thalach  -0.083389  1.000000 -0.378103 -0.343085 -0.385601 -0.264246   \n",
       "exang     0.084867 -0.378103  1.000000  0.288223  0.257748  0.145570   \n",
       "oldpeak   0.114133 -0.343085  0.288223  1.000000  0.577537  0.295832   \n",
       "slope     0.133946 -0.385601  0.257748  0.577537  1.000000  0.110119   \n",
       "ca        0.128343 -0.264246  0.145570  0.295832  0.110119  1.000000   \n",
       "thal      0.024531 -0.279631  0.329680  0.341004  0.287232  0.256382   \n",
       "num       0.183696 -0.415040  0.397057  0.504092  0.377957  0.518909   \n",
       "\n",
       "              thal       num  \n",
       "age       0.127389  0.222853  \n",
       "sex       0.380936  0.224469  \n",
       "cp        0.265246  0.407075  \n",
       "trestbps  0.133554  0.157754  \n",
       "chol      0.014214  0.070909  \n",
       "fbs       0.071358  0.059186  \n",
       "restecg   0.024531  0.183696  \n",
       "thalach  -0.279631 -0.415040  \n",
       "exang     0.329680  0.397057  \n",
       "oldpeak   0.341004  0.504092  \n",
       "slope     0.287232  0.377957  \n",
       "ca        0.256382  0.518909  \n",
       "thal      1.000000  0.509923  \n",
       "num       0.509923  1.000000  "
      ]
     },
     "execution_count": 9,
     "metadata": {},
     "output_type": "execute_result"
    }
   ],
   "source": [
    "data.corr()"
   ]
  },
  {
   "cell_type": "code",
   "execution_count": 10,
   "metadata": {},
   "outputs": [
    {
     "data": {
      "text/plain": [
       "<matplotlib.axes._subplots.AxesSubplot at 0x278ba2c5550>"
      ]
     },
     "execution_count": 10,
     "metadata": {},
     "output_type": "execute_result"
    },
    {
     "data": {
      "image/png": "[encoded data removed]",
      "text/plain": [
       "<Figure size 720x720 with 2 Axes>"
      ]
     },
     "metadata": {
      "needs_background": "light"
     },
     "output_type": "display_data"
    }
   ],
   "source": [
    "plt.figure(figsize=(10,10))\n",
    "sns.heatmap(data.corr(),cmap='terrain',annot=True)"
   ]
  },
  {
   "cell_type": "markdown",
   "metadata": {},
   "source": [
    "1. Thalach has a negative correlarion with target variable num and other features: age, cp, exang, oldpeak, slope, ca, thal.\n",
    "2. Target-num has a positive correlation with cp, oldpeak, ca  and thal.\n",
    "3. slope and old peak are positively correlated."
   ]
  },
  {
   "cell_type": "markdown",
   "metadata": {},
   "source": [
    "# Visualization:"
   ]
  },
  {
   "cell_type": "code",
   "execution_count": 11,
   "metadata": {},
   "outputs": [
    {
     "data": {
      "text/plain": [
       "<matplotlib.axes._subplots.AxesSubplot at 0x278bb00a0d0>"
      ]
     },
     "execution_count": 11,
     "metadata": {},
     "output_type": "execute_result"
    },
    {
     "data": {
      "image/png": "[encoded data removed]",
      "text/plain": [
       "<Figure size 432x288 with 1 Axes>"
      ]
     },
     "metadata": {
      "needs_background": "light"
     },
     "output_type": "display_data"
    }
   ],
   "source": [
    "data['age'].plot.hist()"
   ]
  },
  {
   "cell_type": "markdown",
   "metadata": {},
   "source": [
    "Mostly the patients in the data set lies in the age group of 40-65. so there is a possibility that middle aged people are more prone to heart disease."
   ]
  },
  {
   "cell_type": "code",
   "execution_count": 12,
   "metadata": {},
   "outputs": [
    {
     "data": {
      "text/plain": [
       "<matplotlib.axes._subplots.AxesSubplot at 0x278bb06c040>"
      ]
     },
     "execution_count": 12,
     "metadata": {},
     "output_type": "execute_result"
    },
    {
     "data": {
      "image/png": "[encoded data removed]",
      "text/plain": [
       "<Figure size 432x288 with 1 Axes>"
      ]
     },
     "metadata": {
      "needs_background": "light"
     },
     "output_type": "display_data"
    }
   ],
   "source": [
    "sns.countplot('sex',hue='num',data=data)"
   ]
  },
  {
   "cell_type": "markdown",
   "metadata": {},
   "source": [
    "There is a significant difference in the male and the female patients. It might be concluded that male are more prone to heart disease."
   ]
  },
  {
   "cell_type": "code",
   "execution_count": 13,
   "metadata": {},
   "outputs": [
    {
     "data": {
      "text/plain": [
       "<matplotlib.axes._subplots.AxesSubplot at 0x278bb0e4d00>"
      ]
     },
     "execution_count": 13,
     "metadata": {},
     "output_type": "execute_result"
    },
    {
     "data": {
      "image/png": "[encoded data removed]",
      "text/plain": [
       "<Figure size 432x288 with 1 Axes>"
      ]
     },
     "metadata": {
      "needs_background": "light"
     },
     "output_type": "display_data"
    }
   ],
   "source": [
    "sns.countplot('cp',hue='num',data=data)"
   ]
  },
  {
   "cell_type": "markdown",
   "metadata": {},
   "source": [
    "Asymptomatic people in chest pain are more likely to have a heart disease. "
   ]
  },
  {
   "cell_type": "code",
   "execution_count": 14,
   "metadata": {},
   "outputs": [
    {
     "data": {
      "text/plain": [
       "<matplotlib.axes._subplots.AxesSubplot at 0x278bb15ce20>"
      ]
     },
     "execution_count": 14,
     "metadata": {},
     "output_type": "execute_result"
    },
    {
     "data": {
      "image/png": "[encoded data removed]",
      "text/plain": [
       "<Figure size 432x288 with 1 Axes>"
      ]
     },
     "metadata": {
      "needs_background": "light"
     },
     "output_type": "display_data"
    }
   ],
   "source": [
    "sns.countplot(data['restecg'])"
   ]
  },
  {
   "cell_type": "markdown",
   "metadata": {},
   "source": [
    "A very few patient's resting ecg shows ST-T wave abnormality."
   ]
  },
  {
   "cell_type": "code",
   "execution_count": 15,
   "metadata": {},
   "outputs": [
    {
     "data": {
      "text/plain": [
       "<matplotlib.axes._subplots.AxesSubplot at 0x278bb1d2580>"
      ]
     },
     "execution_count": 15,
     "metadata": {},
     "output_type": "execute_result"
    },
    {
     "data": {
      "image/png": "[encoded data removed]",
      "text/plain": [
       "<Figure size 432x288 with 1 Axes>"
      ]
     },
     "metadata": {
      "needs_background": "light"
     },
     "output_type": "display_data"
    }
   ],
   "source": [
    "sns.countplot('exang',hue='num',data=data)"
   ]
  },
  {
   "cell_type": "markdown",
   "metadata": {},
   "source": [
    "For people who did not experience engina during exercise they are less likely to have a heart disease."
   ]
  },
  {
   "cell_type": "code",
   "execution_count": 16,
   "metadata": {},
   "outputs": [
    {
     "data": {
      "text/plain": [
       "<matplotlib.axes._subplots.AxesSubplot at 0x278bb241eb0>"
      ]
     },
     "execution_count": 16,
     "metadata": {},
     "output_type": "execute_result"
    },
    {
     "data": {
      "image/png": "[encoded data removed]",
      "text/plain": [
       "<Figure size 432x288 with 1 Axes>"
      ]
     },
     "metadata": {
      "needs_background": "light"
     },
     "output_type": "display_data"
    }
   ],
   "source": [
    "sns.countplot('slope',hue='num',data=data)"
   ]
  },
  {
   "cell_type": "markdown",
   "metadata": {},
   "source": [
    "patients having a slope as upsloping they are less likley to have heart disease."
   ]
  },
  {
   "cell_type": "code",
   "execution_count": 17,
   "metadata": {},
   "outputs": [
    {
     "data": {
      "text/plain": [
       "array([[<matplotlib.axes._subplots.AxesSubplot object at 0x00000278BB2C5400>,\n",
       "        <matplotlib.axes._subplots.AxesSubplot object at 0x00000278BB2E8670>,\n",
       "        <matplotlib.axes._subplots.AxesSubplot object at 0x00000278BB314D30>],\n",
       "       [<matplotlib.axes._subplots.AxesSubplot object at 0x00000278BB34A4F0>,\n",
       "        <matplotlib.axes._subplots.AxesSubplot object at 0x00000278BB373C40>,\n",
       "        <matplotlib.axes._subplots.AxesSubplot object at 0x00000278BB3AA310>],\n",
       "       [<matplotlib.axes._subplots.AxesSubplot object at 0x00000278BB3AA400>,\n",
       "        <matplotlib.axes._subplots.AxesSubplot object at 0x00000278BAD3ADC0>,\n",
       "        <matplotlib.axes._subplots.AxesSubplot object at 0x00000278BB038D00>],\n",
       "       [<matplotlib.axes._subplots.AxesSubplot object at 0x00000278BB24CDC0>,\n",
       "        <matplotlib.axes._subplots.AxesSubplot object at 0x00000278BB2B2C70>,\n",
       "        <matplotlib.axes._subplots.AxesSubplot object at 0x00000278BAAF75E0>],\n",
       "       [<matplotlib.axes._subplots.AxesSubplot object at 0x00000278BAB23A30>,\n",
       "        <matplotlib.axes._subplots.AxesSubplot object at 0x00000278BAB50E80>,\n",
       "        <matplotlib.axes._subplots.AxesSubplot object at 0x00000278BAB89280>]],\n",
       "      dtype=object)"
      ]
     },
     "execution_count": 17,
     "metadata": {},
     "output_type": "execute_result"
    },
    {
     "data": {
      "image/png": "[encoded data removed]",
      "text/plain": [
       "<Figure size 720x720 with 15 Axes>"
      ]
     },
     "metadata": {
      "needs_background": "light"
     },
     "output_type": "display_data"
    }
   ],
   "source": [
    "# observing the distribution of each column with histogrsm plot.\n",
    "data.hist(figsize=(10,10),layout=(5,3))"
   ]
  },
  {
   "cell_type": "markdown",
   "metadata": {},
   "source": [
    "BIVARIATE ANALYSIS"
   ]
  },
  {
   "cell_type": "code",
   "execution_count": 18,
   "metadata": {},
   "outputs": [
    {
     "data": {
      "text/plain": [
       "<seaborn.axisgrid.FacetGrid at 0x278bb7c1ee0>"
      ]
     },
     "execution_count": 18,
     "metadata": {},
     "output_type": "execute_result"
    },
    {
     "data": {
      "text/plain": [
       "<Figure size 720x720 with 0 Axes>"
      ]
     },
     "metadata": {},
     "output_type": "display_data"
    },
    {
     "data": {
      "image/png": "[encoded data removed]",
      "text/plain": [
       "<Figure size 402.375x360 with 1 Axes>"
      ]
     },
     "metadata": {
      "needs_background": "light"
     },
     "output_type": "display_data"
    }
   ],
   "source": [
    "plt.figure(figsize=(10,10))\n",
    "sns.catplot(x='sex',y='age',hue='num',data=data)"
   ]
  },
  {
   "cell_type": "markdown",
   "metadata": {},
   "source": [
    "For female we can observe some red dots at a higher age. So there might be the possibility that older females are more prone to heart disease.\n",
    "for male we can see red dots scattered in all the age groups there is no clear relationship of age with the heart disease in males."
   ]
  },
  {
   "cell_type": "code",
   "execution_count": 19,
   "metadata": {},
   "outputs": [
    {
     "data": {
      "text/plain": [
       "<matplotlib.axes._subplots.AxesSubplot at 0x278babe1910>"
      ]
     },
     "execution_count": 19,
     "metadata": {},
     "output_type": "execute_result"
    },
    {
     "data": {
      "image/png": "[encoded data removed]",
      "text/plain": [
       "<Figure size 432x288 with 1 Axes>"
      ]
     },
     "metadata": {
      "needs_background": "light"
     },
     "output_type": "display_data"
    }
   ],
   "source": [
    "sns.barplot(x='sex',y='chol',hue='num',data=data)"
   ]
  },
  {
   "cell_type": "markdown",
   "metadata": {},
   "source": [
    "1. In male cholestrol levels are not giving any information about the heart disease.\n",
    "2. Females have a higher cholestrol than male. Also there is a possibility of a women with highr=er cholestrol to have a heart disease."
   ]
  },
  {
   "cell_type": "code",
   "execution_count": 20,
   "metadata": {},
   "outputs": [
    {
     "data": {
      "text/plain": [
       "<matplotlib.axes._subplots.AxesSubplot at 0x278bba5e940>"
      ]
     },
     "execution_count": 20,
     "metadata": {},
     "output_type": "execute_result"
    },
    {
     "data": {
      "image/png": "[encoded data removed]",
      "text/plain": [
       "<Figure size 432x288 with 1 Axes>"
      ]
     },
     "metadata": {
      "needs_background": "light"
     },
     "output_type": "display_data"
    }
   ],
   "source": [
    "sns.barplot(x='sex',y='cp',hue='num',data=data)"
   ]
  },
  {
   "cell_type": "markdown",
   "metadata": {},
   "source": [
    "For both male and female either the chest pain is non-anginal or asymptomatic."
   ]
  },
  {
   "cell_type": "code",
   "execution_count": 21,
   "metadata": {},
   "outputs": [
    {
     "data": {
      "text/plain": [
       "<matplotlib.axes._subplots.AxesSubplot at 0x278bbae82b0>"
      ]
     },
     "execution_count": 21,
     "metadata": {},
     "output_type": "execute_result"
    },
    {
     "data": {
      "image/png": "[encoded data removed]",
      "text/plain": [
       "<Figure size 432x288 with 1 Axes>"
      ]
     },
     "metadata": {
      "needs_background": "light"
     },
     "output_type": "display_data"
    }
   ],
   "source": [
    "data.plot.kde(y='trestbps',x='num')"
   ]
  },
  {
   "cell_type": "markdown",
   "metadata": {},
   "source": [
    "people with trestbps between 100-150 shows a higher tendency to have a heart disease."
   ]
  },
  {
   "cell_type": "code",
   "execution_count": 22,
   "metadata": {},
   "outputs": [
    {
     "data": {
      "text/plain": [
       "<matplotlib.axes._subplots.AxesSubplot at 0x278bbb40a60>"
      ]
     },
     "execution_count": 22,
     "metadata": {},
     "output_type": "execute_result"
    },
    {
     "data": {
      "image/png": "[encoded data removed]",
      "text/plain": [
       "<Figure size 432x288 with 1 Axes>"
      ]
     },
     "metadata": {
      "needs_background": "light"
     },
     "output_type": "display_data"
    }
   ],
   "source": [
    "sns.barplot(x='restecg',y='num',data=data)"
   ]
  },
  {
   "cell_type": "markdown",
   "metadata": {},
   "source": [
    "An ST-T wave abnormality might be indicative of a heart disease."
   ]
  },
  {
   "cell_type": "code",
   "execution_count": 23,
   "metadata": {},
   "outputs": [
    {
     "data": {
      "text/plain": [
       "<matplotlib.axes._subplots.AxesSubplot at 0x278bcb92130>"
      ]
     },
     "execution_count": 23,
     "metadata": {},
     "output_type": "execute_result"
    },
    {
     "data": {
      "image/png": "[encoded data removed]",
      "text/plain": [
       "<Figure size 432x288 with 1 Axes>"
      ]
     },
     "metadata": {
      "needs_background": "light"
     },
     "output_type": "display_data"
    }
   ],
   "source": [
    "sns.barplot(x='exang',y='num',data=data)"
   ]
  },
  {
   "cell_type": "markdown",
   "metadata": {},
   "source": [
    "People who have experienced angina during exercise are more prone to having a heart disease."
   ]
  },
  {
   "cell_type": "code",
   "execution_count": 24,
   "metadata": {},
   "outputs": [
    {
     "data": {
      "text/plain": [
       "<matplotlib.axes._subplots.AxesSubplot at 0x278bb5742b0>"
      ]
     },
     "execution_count": 24,
     "metadata": {},
     "output_type": "execute_result"
    },
    {
     "data": {
      "image/png": "[encoded data removed]",
      "text/plain": [
       "<Figure size 432x288 with 1 Axes>"
      ]
     },
     "metadata": {
      "needs_background": "light"
     },
     "output_type": "display_data"
    }
   ],
   "source": [
    "sns.barplot(x='slope',y='num',data=data)"
   ]
  },
  {
   "cell_type": "markdown",
   "metadata": {},
   "source": [
    "A slope either flat or downsloping has a higher chance of getting a heart disease."
   ]
  },
  {
   "cell_type": "markdown",
   "metadata": {},
   "source": [
    "Statiscal analysis:"
   ]
  },
  {
   "cell_type": "code",
   "execution_count": 25,
   "metadata": {},
   "outputs": [
    {
     "data": {
      "image/png": "[encoded data removed]",
      "text/plain": [
       "<Figure size 432x288 with 1 Axes>"
      ]
     },
     "metadata": {
      "needs_background": "light"
     },
     "output_type": "display_data"
    },
    {
     "data": {
      "image/png": "[encoded data removed]",
      "text/plain": [
       "<Figure size 432x288 with 1 Axes>"
      ]
     },
     "metadata": {
      "needs_background": "light"
     },
     "output_type": "display_data"
    },
    {
     "data": {
      "image/png": "[encoded data removed]",
      "text/plain": [
       "<Figure size 432x288 with 1 Axes>"
      ]
     },
     "metadata": {
      "needs_background": "light"
     },
     "output_type": "display_data"
    },
    {
     "data": {
      "image/png": "[encoded data removed]",
      "text/plain": [
       "<Figure size 432x288 with 1 Axes>"
      ]
     },
     "metadata": {
      "needs_background": "light"
     },
     "output_type": "display_data"
    },
    {
     "data": {
      "image/png": "[encoded data removed]",
      "text/plain": [
       "<Figure size 432x288 with 1 Axes>"
      ]
     },
     "metadata": {
      "needs_background": "light"
     },
     "output_type": "display_data"
    },
    {
     "data": {
      "image/png": "[encoded data removed]",
      "text/plain": [
       "<Figure size 432x288 with 1 Axes>"
      ]
     },
     "metadata": {
      "needs_background": "light"
     },
     "output_type": "display_data"
    },
    {
     "data": {
      "image/png": "[encoded data removed]",
      "text/plain": [
       "<Figure size 432x288 with 1 Axes>"
      ]
     },
     "metadata": {
      "needs_background": "light"
     },
     "output_type": "display_data"
    },
    {
     "data": {
      "image/png": "[encoded data removed]",
      "text/plain": [
       "<Figure size 432x288 with 1 Axes>"
      ]
     },
     "metadata": {
      "needs_background": "light"
     },
     "output_type": "display_data"
    },
    {
     "data": {
      "image/png": "[encoded data removed]",
      "text/plain": [
       "<Figure size 432x288 with 1 Axes>"
      ]
     },
     "metadata": {
      "needs_background": "light"
     },
     "output_type": "display_data"
    },
    {
     "data": {
      "image/png": "[encoded data removed]",
      "text/plain": [
       "<Figure size 432x288 with 1 Axes>"
      ]
     },
     "metadata": {
      "needs_background": "light"
     },
     "output_type": "display_data"
    },
    {
     "data": {
      "image/png": "[encoded data removed]",
      "text/plain": [
       "<Figure size 432x288 with 1 Axes>"
      ]
     },
     "metadata": {
      "needs_background": "light"
     },
     "output_type": "display_data"
    },
    {
     "data": {
      "image/png": "[encoded data removed]",
      "text/plain": [
       "<Figure size 432x288 with 1 Axes>"
      ]
     },
     "metadata": {
      "needs_background": "light"
     },
     "output_type": "display_data"
    },
    {
     "data": {
      "image/png": "[encoded data removed]",
      "text/plain": [
       "<Figure size 432x288 with 1 Axes>"
      ]
     },
     "metadata": {
      "needs_background": "light"
     },
     "output_type": "display_data"
    },
    {
     "data": {
      "image/png": "[encoded data removed]",
      "text/plain": [
       "<Figure size 432x288 with 1 Axes>"
      ]
     },
     "metadata": {
      "needs_background": "light"
     },
     "output_type": "display_data"
    }
   ],
   "source": [
    "for i in data.columns:\n",
    "    sns.distplot(data[i])\n",
    "    plt.show()"
   ]
  },
  {
   "cell_type": "markdown",
   "metadata": {},
   "source": [
    "observations:\n",
    "1. Age is almost normally distributed.\n",
    "2. sex is a categorical data with most of the values as 1.\n",
    "3. cp is left skewed.\n",
    "4. old peak is right skewed.\n",
    "4. trestbps,thalach are normally distributed."
   ]
  },
  {
   "cell_type": "code",
   "execution_count": 26,
   "metadata": {},
   "outputs": [
    {
     "data": {
      "image/png": "[encoded data removed]",
      "text/plain": [
       "<Figure size 432x288 with 1 Axes>"
      ]
     },
     "metadata": {
      "needs_background": "light"
     },
     "output_type": "display_data"
    },
    {
     "data": {
      "image/png": "[encoded data removed]",
      "text/plain": [
       "<Figure size 432x288 with 1 Axes>"
      ]
     },
     "metadata": {
      "needs_background": "light"
     },
     "output_type": "display_data"
    },
    {
     "data": {
      "image/png": "[encoded data removed]",
      "text/plain": [
       "<Figure size 432x288 with 1 Axes>"
      ]
     },
     "metadata": {
      "needs_background": "light"
     },
     "output_type": "display_data"
    },
    {
     "data": {
      "image/png": "[encoded data removed]",
      "text/plain": [
       "<Figure size 432x288 with 1 Axes>"
      ]
     },
     "metadata": {
      "needs_background": "light"
     },
     "output_type": "display_data"
    },
    {
     "data": {
      "image/png": "[encoded data removed]",
      "text/plain": [
       "<Figure size 432x288 with 1 Axes>"
      ]
     },
     "metadata": {
      "needs_background": "light"
     },
     "output_type": "display_data"
    },
    {
     "data": {
      "image/png": "[encoded data removed]",
      "text/plain": [
       "<Figure size 432x288 with 1 Axes>"
      ]
     },
     "metadata": {
      "needs_background": "light"
     },
     "output_type": "display_data"
    },
    {
     "data": {
      "image/png": "[encoded data removed]",
      "text/plain": [
       "<Figure size 432x288 with 1 Axes>"
      ]
     },
     "metadata": {
      "needs_background": "light"
     },
     "output_type": "display_data"
    },
    {
     "data": {
      "image/png": "[encoded data removed]",
      "text/plain": [
       "<Figure size 432x288 with 1 Axes>"
      ]
     },
     "metadata": {
      "needs_background": "light"
     },
     "output_type": "display_data"
    },
    {
     "data": {
      "image/png": "[encoded data removed]",
      "text/plain": [
       "<Figure size 432x288 with 1 Axes>"
      ]
     },
     "metadata": {
      "needs_background": "light"
     },
     "output_type": "display_data"
    },
    {
     "data": {
      "image/png": "[encoded data removed]",
      "text/plain": [
       "<Figure size 432x288 with 1 Axes>"
      ]
     },
     "metadata": {
      "needs_background": "light"
     },
     "output_type": "display_data"
    },
    {
     "data": {
      "image/png": "[encoded data removed]",
      "text/plain": [
       "<Figure size 432x288 with 1 Axes>"
      ]
     },
     "metadata": {
      "needs_background": "light"
     },
     "output_type": "display_data"
    },
    {
     "data": {
      "image/png": "[encoded data removed]",
      "text/plain": [
       "<Figure size 432x288 with 1 Axes>"
      ]
     },
     "metadata": {
      "needs_background": "light"
     },
     "output_type": "display_data"
    },
    {
     "data": {
      "image/png": "[encoded data removed]",
      "text/plain": [
       "<Figure size 432x288 with 1 Axes>"
      ]
     },
     "metadata": {
      "needs_background": "light"
     },
     "output_type": "display_data"
    },
    {
     "data": {
      "image/png": "[encoded data removed]",
      "text/plain": [
       "<Figure size 432x288 with 1 Axes>"
      ]
     },
     "metadata": {
      "needs_background": "light"
     },
     "output_type": "display_data"
    }
   ],
   "source": [
    "for i in data.columns:\n",
    "    sns.boxplot(data[i])\n",
    "    plt.show()"
   ]
  },
  {
   "cell_type": "markdown",
   "metadata": {},
   "source": [
    "observations:\n",
    "trestbps, chol, oldpeak has a few outliers. Rest the data seems fine."
   ]
  },
  {
   "cell_type": "code",
   "execution_count": 27,
   "metadata": {},
   "outputs": [
    {
     "data": {
      "text/plain": [
       "age         0\n",
       "sex         0\n",
       "cp          0\n",
       "trestbps    0\n",
       "chol        0\n",
       "fbs         0\n",
       "restecg     0\n",
       "thalach     0\n",
       "exang       0\n",
       "oldpeak     0\n",
       "slope       0\n",
       "ca          4\n",
       "thal        2\n",
       "num         0\n",
       "dtype: int64"
      ]
     },
     "execution_count": 27,
     "metadata": {},
     "output_type": "execute_result"
    }
   ],
   "source": [
    "#We had null values in our data set. Dealing with the null values\n",
    "data.isna().sum()"
   ]
  },
  {
   "cell_type": "markdown",
   "metadata": {},
   "source": [
    "Here ca and thal have null values."
   ]
  },
  {
   "cell_type": "code",
   "execution_count": 28,
   "metadata": {},
   "outputs": [],
   "source": [
    "from sklearn.impute import SimpleImputer\n",
    "si=SimpleImputer(strategy='median')"
   ]
  },
  {
   "cell_type": "code",
   "execution_count": 29,
   "metadata": {},
   "outputs": [],
   "source": [
    "for i in data.columns:\n",
    "    if data.isna().sum().loc[i]!=0:\n",
    "        data[i]=si.fit_transform(data[i].values.reshape(-1,1))\n",
    "    "
   ]
  },
  {
   "cell_type": "code",
   "execution_count": 30,
   "metadata": {},
   "outputs": [
    {
     "data": {
      "text/plain": [
       "age         0\n",
       "sex         0\n",
       "cp          0\n",
       "trestbps    0\n",
       "chol        0\n",
       "fbs         0\n",
       "restecg     0\n",
       "thalach     0\n",
       "exang       0\n",
       "oldpeak     0\n",
       "slope       0\n",
       "ca          0\n",
       "thal        0\n",
       "num         0\n",
       "dtype: int64"
      ]
     },
     "execution_count": 30,
     "metadata": {},
     "output_type": "execute_result"
    }
   ],
   "source": [
    "data.isna().sum()"
   ]
  },
  {
   "cell_type": "code",
   "execution_count": 31,
   "metadata": {},
   "outputs": [
    {
     "data": {
      "text/html": [
       "<div>\n",
       "<style scoped>\n",
       "    .dataframe tbody tr th:only-of-type {\n",
       "        vertical-align: middle;\n",
       "    }\n",
       "\n",
       "    .dataframe tbody tr th {\n",
       "        vertical-align: top;\n",
       "    }\n",
       "\n",
       "    .dataframe thead th {\n",
       "        text-align: right;\n",
       "    }\n",
       "</style>\n",
       "<table border=\"1\" class=\"dataframe\">\n",
       "  <thead>\n",
       "    <tr style=\"text-align: right;\">\n",
       "      <th></th>\n",
       "      <th>age</th>\n",
       "      <th>sex</th>\n",
       "      <th>cp</th>\n",
       "      <th>trestbps</th>\n",
       "      <th>chol</th>\n",
       "      <th>fbs</th>\n",
       "      <th>restecg</th>\n",
       "      <th>thalach</th>\n",
       "      <th>exang</th>\n",
       "      <th>oldpeak</th>\n",
       "      <th>slope</th>\n",
       "      <th>ca</th>\n",
       "      <th>thal</th>\n",
       "      <th>num</th>\n",
       "    </tr>\n",
       "  </thead>\n",
       "  <tbody>\n",
       "    <tr>\n",
       "      <th>0</th>\n",
       "      <td>63.0</td>\n",
       "      <td>1.0</td>\n",
       "      <td>1.0</td>\n",
       "      <td>145.0</td>\n",
       "      <td>233.0</td>\n",
       "      <td>1.0</td>\n",
       "      <td>2.0</td>\n",
       "      <td>150.0</td>\n",
       "      <td>0.0</td>\n",
       "      <td>2.3</td>\n",
       "      <td>3.0</td>\n",
       "      <td>0.0</td>\n",
       "      <td>6.0</td>\n",
       "      <td>0</td>\n",
       "    </tr>\n",
       "    <tr>\n",
       "      <th>1</th>\n",
       "      <td>67.0</td>\n",
       "      <td>1.0</td>\n",
       "      <td>4.0</td>\n",
       "      <td>160.0</td>\n",
       "      <td>286.0</td>\n",
       "      <td>0.0</td>\n",
       "      <td>2.0</td>\n",
       "      <td>108.0</td>\n",
       "      <td>1.0</td>\n",
       "      <td>1.5</td>\n",
       "      <td>2.0</td>\n",
       "      <td>3.0</td>\n",
       "      <td>3.0</td>\n",
       "      <td>2</td>\n",
       "    </tr>\n",
       "    <tr>\n",
       "      <th>2</th>\n",
       "      <td>67.0</td>\n",
       "      <td>1.0</td>\n",
       "      <td>4.0</td>\n",
       "      <td>120.0</td>\n",
       "      <td>229.0</td>\n",
       "      <td>0.0</td>\n",
       "      <td>2.0</td>\n",
       "      <td>129.0</td>\n",
       "      <td>1.0</td>\n",
       "      <td>2.6</td>\n",
       "      <td>2.0</td>\n",
       "      <td>2.0</td>\n",
       "      <td>7.0</td>\n",
       "      <td>1</td>\n",
       "    </tr>\n",
       "    <tr>\n",
       "      <th>3</th>\n",
       "      <td>37.0</td>\n",
       "      <td>1.0</td>\n",
       "      <td>3.0</td>\n",
       "      <td>130.0</td>\n",
       "      <td>250.0</td>\n",
       "      <td>0.0</td>\n",
       "      <td>0.0</td>\n",
       "      <td>187.0</td>\n",
       "      <td>0.0</td>\n",
       "      <td>3.5</td>\n",
       "      <td>3.0</td>\n",
       "      <td>0.0</td>\n",
       "      <td>3.0</td>\n",
       "      <td>0</td>\n",
       "    </tr>\n",
       "    <tr>\n",
       "      <th>4</th>\n",
       "      <td>41.0</td>\n",
       "      <td>0.0</td>\n",
       "      <td>2.0</td>\n",
       "      <td>130.0</td>\n",
       "      <td>204.0</td>\n",
       "      <td>0.0</td>\n",
       "      <td>2.0</td>\n",
       "      <td>172.0</td>\n",
       "      <td>0.0</td>\n",
       "      <td>1.4</td>\n",
       "      <td>1.0</td>\n",
       "      <td>0.0</td>\n",
       "      <td>3.0</td>\n",
       "      <td>0</td>\n",
       "    </tr>\n",
       "    <tr>\n",
       "      <th>...</th>\n",
       "      <td>...</td>\n",
       "      <td>...</td>\n",
       "      <td>...</td>\n",
       "      <td>...</td>\n",
       "      <td>...</td>\n",
       "      <td>...</td>\n",
       "      <td>...</td>\n",
       "      <td>...</td>\n",
       "      <td>...</td>\n",
       "      <td>...</td>\n",
       "      <td>...</td>\n",
       "      <td>...</td>\n",
       "      <td>...</td>\n",
       "      <td>...</td>\n",
       "    </tr>\n",
       "    <tr>\n",
       "      <th>298</th>\n",
       "      <td>45.0</td>\n",
       "      <td>1.0</td>\n",
       "      <td>1.0</td>\n",
       "      <td>110.0</td>\n",
       "      <td>264.0</td>\n",
       "      <td>0.0</td>\n",
       "      <td>0.0</td>\n",
       "      <td>132.0</td>\n",
       "      <td>0.0</td>\n",
       "      <td>1.2</td>\n",
       "      <td>2.0</td>\n",
       "      <td>0.0</td>\n",
       "      <td>7.0</td>\n",
       "      <td>1</td>\n",
       "    </tr>\n",
       "    <tr>\n",
       "      <th>299</th>\n",
       "      <td>68.0</td>\n",
       "      <td>1.0</td>\n",
       "      <td>4.0</td>\n",
       "      <td>144.0</td>\n",
       "      <td>193.0</td>\n",
       "      <td>1.0</td>\n",
       "      <td>0.0</td>\n",
       "      <td>141.0</td>\n",
       "      <td>0.0</td>\n",
       "      <td>3.4</td>\n",
       "      <td>2.0</td>\n",
       "      <td>2.0</td>\n",
       "      <td>7.0</td>\n",
       "      <td>2</td>\n",
       "    </tr>\n",
       "    <tr>\n",
       "      <th>300</th>\n",
       "      <td>57.0</td>\n",
       "      <td>1.0</td>\n",
       "      <td>4.0</td>\n",
       "      <td>130.0</td>\n",
       "      <td>131.0</td>\n",
       "      <td>0.0</td>\n",
       "      <td>0.0</td>\n",
       "      <td>115.0</td>\n",
       "      <td>1.0</td>\n",
       "      <td>1.2</td>\n",
       "      <td>2.0</td>\n",
       "      <td>1.0</td>\n",
       "      <td>7.0</td>\n",
       "      <td>3</td>\n",
       "    </tr>\n",
       "    <tr>\n",
       "      <th>301</th>\n",
       "      <td>57.0</td>\n",
       "      <td>0.0</td>\n",
       "      <td>2.0</td>\n",
       "      <td>130.0</td>\n",
       "      <td>236.0</td>\n",
       "      <td>0.0</td>\n",
       "      <td>2.0</td>\n",
       "      <td>174.0</td>\n",
       "      <td>0.0</td>\n",
       "      <td>0.0</td>\n",
       "      <td>2.0</td>\n",
       "      <td>1.0</td>\n",
       "      <td>3.0</td>\n",
       "      <td>1</td>\n",
       "    </tr>\n",
       "    <tr>\n",
       "      <th>302</th>\n",
       "      <td>38.0</td>\n",
       "      <td>1.0</td>\n",
       "      <td>3.0</td>\n",
       "      <td>138.0</td>\n",
       "      <td>175.0</td>\n",
       "      <td>0.0</td>\n",
       "      <td>0.0</td>\n",
       "      <td>173.0</td>\n",
       "      <td>0.0</td>\n",
       "      <td>0.0</td>\n",
       "      <td>1.0</td>\n",
       "      <td>0.0</td>\n",
       "      <td>3.0</td>\n",
       "      <td>0</td>\n",
       "    </tr>\n",
       "  </tbody>\n",
       "</table>\n",
       "<p>303 rows × 14 columns</p>\n",
       "</div>"
      ],
      "text/plain": [
       "      age  sex   cp  trestbps   chol  fbs  restecg  thalach  exang  oldpeak  \\\n",
       "0    63.0  1.0  1.0     145.0  233.0  1.0      2.0    150.0    0.0      2.3   \n",
       "1    67.0  1.0  4.0     160.0  286.0  0.0      2.0    108.0    1.0      1.5   \n",
       "2    67.0  1.0  4.0     120.0  229.0  0.0      2.0    129.0    1.0      2.6   \n",
       "3    37.0  1.0  3.0     130.0  250.0  0.0      0.0    187.0    0.0      3.5   \n",
       "4    41.0  0.0  2.0     130.0  204.0  0.0      2.0    172.0    0.0      1.4   \n",
       "..    ...  ...  ...       ...    ...  ...      ...      ...    ...      ...   \n",
       "298  45.0  1.0  1.0     110.0  264.0  0.0      0.0    132.0    0.0      1.2   \n",
       "299  68.0  1.0  4.0     144.0  193.0  1.0      0.0    141.0    0.0      3.4   \n",
       "300  57.0  1.0  4.0     130.0  131.0  0.0      0.0    115.0    1.0      1.2   \n",
       "301  57.0  0.0  2.0     130.0  236.0  0.0      2.0    174.0    0.0      0.0   \n",
       "302  38.0  1.0  3.0     138.0  175.0  0.0      0.0    173.0    0.0      0.0   \n",
       "\n",
       "     slope   ca  thal  num  \n",
       "0      3.0  0.0   6.0    0  \n",
       "1      2.0  3.0   3.0    2  \n",
       "2      2.0  2.0   7.0    1  \n",
       "3      3.0  0.0   3.0    0  \n",
       "4      1.0  0.0   3.0    0  \n",
       "..     ...  ...   ...  ...  \n",
       "298    2.0  0.0   7.0    1  \n",
       "299    2.0  2.0   7.0    2  \n",
       "300    2.0  1.0   7.0    3  \n",
       "301    2.0  1.0   3.0    1  \n",
       "302    1.0  0.0   3.0    0  \n",
       "\n",
       "[303 rows x 14 columns]"
      ]
     },
     "execution_count": 31,
     "metadata": {},
     "output_type": "execute_result"
    }
   ],
   "source": [
    "data"
   ]
  },
  {
   "cell_type": "code",
   "execution_count": 32,
   "metadata": {},
   "outputs": [],
   "source": [
    "data=pd.get_dummies(data,columns=['sex','cp','fbs','restecg','exang','slope','ca','thal'],drop_first=True)"
   ]
  },
  {
   "cell_type": "code",
   "execution_count": 33,
   "metadata": {},
   "outputs": [
    {
     "data": {
      "text/html": [
       "<div>\n",
       "<style scoped>\n",
       "    .dataframe tbody tr th:only-of-type {\n",
       "        vertical-align: middle;\n",
       "    }\n",
       "\n",
       "    .dataframe tbody tr th {\n",
       "        vertical-align: top;\n",
       "    }\n",
       "\n",
       "    .dataframe thead th {\n",
       "        text-align: right;\n",
       "    }\n",
       "</style>\n",
       "<table border=\"1\" class=\"dataframe\">\n",
       "  <thead>\n",
       "    <tr style=\"text-align: right;\">\n",
       "      <th></th>\n",
       "      <th>age</th>\n",
       "      <th>trestbps</th>\n",
       "      <th>chol</th>\n",
       "      <th>thalach</th>\n",
       "      <th>oldpeak</th>\n",
       "      <th>num</th>\n",
       "      <th>sex_1.0</th>\n",
       "      <th>cp_2.0</th>\n",
       "      <th>cp_3.0</th>\n",
       "      <th>cp_4.0</th>\n",
       "      <th>...</th>\n",
       "      <th>restecg_1.0</th>\n",
       "      <th>restecg_2.0</th>\n",
       "      <th>exang_1.0</th>\n",
       "      <th>slope_2.0</th>\n",
       "      <th>slope_3.0</th>\n",
       "      <th>ca_1.0</th>\n",
       "      <th>ca_2.0</th>\n",
       "      <th>ca_3.0</th>\n",
       "      <th>thal_6.0</th>\n",
       "      <th>thal_7.0</th>\n",
       "    </tr>\n",
       "  </thead>\n",
       "  <tbody>\n",
       "    <tr>\n",
       "      <th>0</th>\n",
       "      <td>63.0</td>\n",
       "      <td>145.0</td>\n",
       "      <td>233.0</td>\n",
       "      <td>150.0</td>\n",
       "      <td>2.3</td>\n",
       "      <td>0</td>\n",
       "      <td>1</td>\n",
       "      <td>0</td>\n",
       "      <td>0</td>\n",
       "      <td>0</td>\n",
       "      <td>...</td>\n",
       "      <td>0</td>\n",
       "      <td>1</td>\n",
       "      <td>0</td>\n",
       "      <td>0</td>\n",
       "      <td>1</td>\n",
       "      <td>0</td>\n",
       "      <td>0</td>\n",
       "      <td>0</td>\n",
       "      <td>1</td>\n",
       "      <td>0</td>\n",
       "    </tr>\n",
       "    <tr>\n",
       "      <th>1</th>\n",
       "      <td>67.0</td>\n",
       "      <td>160.0</td>\n",
       "      <td>286.0</td>\n",
       "      <td>108.0</td>\n",
       "      <td>1.5</td>\n",
       "      <td>2</td>\n",
       "      <td>1</td>\n",
       "      <td>0</td>\n",
       "      <td>0</td>\n",
       "      <td>1</td>\n",
       "      <td>...</td>\n",
       "      <td>0</td>\n",
       "      <td>1</td>\n",
       "      <td>1</td>\n",
       "      <td>1</td>\n",
       "      <td>0</td>\n",
       "      <td>0</td>\n",
       "      <td>0</td>\n",
       "      <td>1</td>\n",
       "      <td>0</td>\n",
       "      <td>0</td>\n",
       "    </tr>\n",
       "    <tr>\n",
       "      <th>2</th>\n",
       "      <td>67.0</td>\n",
       "      <td>120.0</td>\n",
       "      <td>229.0</td>\n",
       "      <td>129.0</td>\n",
       "      <td>2.6</td>\n",
       "      <td>1</td>\n",
       "      <td>1</td>\n",
       "      <td>0</td>\n",
       "      <td>0</td>\n",
       "      <td>1</td>\n",
       "      <td>...</td>\n",
       "      <td>0</td>\n",
       "      <td>1</td>\n",
       "      <td>1</td>\n",
       "      <td>1</td>\n",
       "      <td>0</td>\n",
       "      <td>0</td>\n",
       "      <td>1</td>\n",
       "      <td>0</td>\n",
       "      <td>0</td>\n",
       "      <td>1</td>\n",
       "    </tr>\n",
       "    <tr>\n",
       "      <th>3</th>\n",
       "      <td>37.0</td>\n",
       "      <td>130.0</td>\n",
       "      <td>250.0</td>\n",
       "      <td>187.0</td>\n",
       "      <td>3.5</td>\n",
       "      <td>0</td>\n",
       "      <td>1</td>\n",
       "      <td>0</td>\n",
       "      <td>1</td>\n",
       "      <td>0</td>\n",
       "      <td>...</td>\n",
       "      <td>0</td>\n",
       "      <td>0</td>\n",
       "      <td>0</td>\n",
       "      <td>0</td>\n",
       "      <td>1</td>\n",
       "      <td>0</td>\n",
       "      <td>0</td>\n",
       "      <td>0</td>\n",
       "      <td>0</td>\n",
       "      <td>0</td>\n",
       "    </tr>\n",
       "    <tr>\n",
       "      <th>4</th>\n",
       "      <td>41.0</td>\n",
       "      <td>130.0</td>\n",
       "      <td>204.0</td>\n",
       "      <td>172.0</td>\n",
       "      <td>1.4</td>\n",
       "      <td>0</td>\n",
       "      <td>0</td>\n",
       "      <td>1</td>\n",
       "      <td>0</td>\n",
       "      <td>0</td>\n",
       "      <td>...</td>\n",
       "      <td>0</td>\n",
       "      <td>1</td>\n",
       "      <td>0</td>\n",
       "      <td>0</td>\n",
       "      <td>0</td>\n",
       "      <td>0</td>\n",
       "      <td>0</td>\n",
       "      <td>0</td>\n",
       "      <td>0</td>\n",
       "      <td>0</td>\n",
       "    </tr>\n",
       "    <tr>\n",
       "      <th>...</th>\n",
       "      <td>...</td>\n",
       "      <td>...</td>\n",
       "      <td>...</td>\n",
       "      <td>...</td>\n",
       "      <td>...</td>\n",
       "      <td>...</td>\n",
       "      <td>...</td>\n",
       "      <td>...</td>\n",
       "      <td>...</td>\n",
       "      <td>...</td>\n",
       "      <td>...</td>\n",
       "      <td>...</td>\n",
       "      <td>...</td>\n",
       "      <td>...</td>\n",
       "      <td>...</td>\n",
       "      <td>...</td>\n",
       "      <td>...</td>\n",
       "      <td>...</td>\n",
       "      <td>...</td>\n",
       "      <td>...</td>\n",
       "      <td>...</td>\n",
       "    </tr>\n",
       "    <tr>\n",
       "      <th>298</th>\n",
       "      <td>45.0</td>\n",
       "      <td>110.0</td>\n",
       "      <td>264.0</td>\n",
       "      <td>132.0</td>\n",
       "      <td>1.2</td>\n",
       "      <td>1</td>\n",
       "      <td>1</td>\n",
       "      <td>0</td>\n",
       "      <td>0</td>\n",
       "      <td>0</td>\n",
       "      <td>...</td>\n",
       "      <td>0</td>\n",
       "      <td>0</td>\n",
       "      <td>0</td>\n",
       "      <td>1</td>\n",
       "      <td>0</td>\n",
       "      <td>0</td>\n",
       "      <td>0</td>\n",
       "      <td>0</td>\n",
       "      <td>0</td>\n",
       "      <td>1</td>\n",
       "    </tr>\n",
       "    <tr>\n",
       "      <th>299</th>\n",
       "      <td>68.0</td>\n",
       "      <td>144.0</td>\n",
       "      <td>193.0</td>\n",
       "      <td>141.0</td>\n",
       "      <td>3.4</td>\n",
       "      <td>2</td>\n",
       "      <td>1</td>\n",
       "      <td>0</td>\n",
       "      <td>0</td>\n",
       "      <td>1</td>\n",
       "      <td>...</td>\n",
       "      <td>0</td>\n",
       "      <td>0</td>\n",
       "      <td>0</td>\n",
       "      <td>1</td>\n",
       "      <td>0</td>\n",
       "      <td>0</td>\n",
       "      <td>1</td>\n",
       "      <td>0</td>\n",
       "      <td>0</td>\n",
       "      <td>1</td>\n",
       "    </tr>\n",
       "    <tr>\n",
       "      <th>300</th>\n",
       "      <td>57.0</td>\n",
       "      <td>130.0</td>\n",
       "      <td>131.0</td>\n",
       "      <td>115.0</td>\n",
       "      <td>1.2</td>\n",
       "      <td>3</td>\n",
       "      <td>1</td>\n",
       "      <td>0</td>\n",
       "      <td>0</td>\n",
       "      <td>1</td>\n",
       "      <td>...</td>\n",
       "      <td>0</td>\n",
       "      <td>0</td>\n",
       "      <td>1</td>\n",
       "      <td>1</td>\n",
       "      <td>0</td>\n",
       "      <td>1</td>\n",
       "      <td>0</td>\n",
       "      <td>0</td>\n",
       "      <td>0</td>\n",
       "      <td>1</td>\n",
       "    </tr>\n",
       "    <tr>\n",
       "      <th>301</th>\n",
       "      <td>57.0</td>\n",
       "      <td>130.0</td>\n",
       "      <td>236.0</td>\n",
       "      <td>174.0</td>\n",
       "      <td>0.0</td>\n",
       "      <td>1</td>\n",
       "      <td>0</td>\n",
       "      <td>1</td>\n",
       "      <td>0</td>\n",
       "      <td>0</td>\n",
       "      <td>...</td>\n",
       "      <td>0</td>\n",
       "      <td>1</td>\n",
       "      <td>0</td>\n",
       "      <td>1</td>\n",
       "      <td>0</td>\n",
       "      <td>1</td>\n",
       "      <td>0</td>\n",
       "      <td>0</td>\n",
       "      <td>0</td>\n",
       "      <td>0</td>\n",
       "    </tr>\n",
       "    <tr>\n",
       "      <th>302</th>\n",
       "      <td>38.0</td>\n",
       "      <td>138.0</td>\n",
       "      <td>175.0</td>\n",
       "      <td>173.0</td>\n",
       "      <td>0.0</td>\n",
       "      <td>0</td>\n",
       "      <td>1</td>\n",
       "      <td>0</td>\n",
       "      <td>1</td>\n",
       "      <td>0</td>\n",
       "      <td>...</td>\n",
       "      <td>0</td>\n",
       "      <td>0</td>\n",
       "      <td>0</td>\n",
       "      <td>0</td>\n",
       "      <td>0</td>\n",
       "      <td>0</td>\n",
       "      <td>0</td>\n",
       "      <td>0</td>\n",
       "      <td>0</td>\n",
       "      <td>0</td>\n",
       "    </tr>\n",
       "  </tbody>\n",
       "</table>\n",
       "<p>303 rows × 21 columns</p>\n",
       "</div>"
      ],
      "text/plain": [
       "      age  trestbps   chol  thalach  oldpeak  num  sex_1.0  cp_2.0  cp_3.0  \\\n",
       "0    63.0     145.0  233.0    150.0      2.3    0        1       0       0   \n",
       "1    67.0     160.0  286.0    108.0      1.5    2        1       0       0   \n",
       "2    67.0     120.0  229.0    129.0      2.6    1        1       0       0   \n",
       "3    37.0     130.0  250.0    187.0      3.5    0        1       0       1   \n",
       "4    41.0     130.0  204.0    172.0      1.4    0        0       1       0   \n",
       "..    ...       ...    ...      ...      ...  ...      ...     ...     ...   \n",
       "298  45.0     110.0  264.0    132.0      1.2    1        1       0       0   \n",
       "299  68.0     144.0  193.0    141.0      3.4    2        1       0       0   \n",
       "300  57.0     130.0  131.0    115.0      1.2    3        1       0       0   \n",
       "301  57.0     130.0  236.0    174.0      0.0    1        0       1       0   \n",
       "302  38.0     138.0  175.0    173.0      0.0    0        1       0       1   \n",
       "\n",
       "     cp_4.0  ...  restecg_1.0  restecg_2.0  exang_1.0  slope_2.0  slope_3.0  \\\n",
       "0         0  ...            0            1          0          0          1   \n",
       "1         1  ...            0            1          1          1          0   \n",
       "2         1  ...            0            1          1          1          0   \n",
       "3         0  ...            0            0          0          0          1   \n",
       "4         0  ...            0            1          0          0          0   \n",
       "..      ...  ...          ...          ...        ...        ...        ...   \n",
       "298       0  ...            0            0          0          1          0   \n",
       "299       1  ...            0            0          0          1          0   \n",
       "300       1  ...            0            0          1          1          0   \n",
       "301       0  ...            0            1          0          1          0   \n",
       "302       0  ...            0            0          0          0          0   \n",
       "\n",
       "     ca_1.0  ca_2.0  ca_3.0  thal_6.0  thal_7.0  \n",
       "0         0       0       0         1         0  \n",
       "1         0       0       1         0         0  \n",
       "2         0       1       0         0         1  \n",
       "3         0       0       0         0         0  \n",
       "4         0       0       0         0         0  \n",
       "..      ...     ...     ...       ...       ...  \n",
       "298       0       0       0         0         1  \n",
       "299       0       1       0         0         1  \n",
       "300       1       0       0         0         1  \n",
       "301       1       0       0         0         0  \n",
       "302       0       0       0         0         0  \n",
       "\n",
       "[303 rows x 21 columns]"
      ]
     },
     "execution_count": 33,
     "metadata": {},
     "output_type": "execute_result"
    }
   ],
   "source": [
    "data"
   ]
  },
  {
   "cell_type": "code",
   "execution_count": 34,
   "metadata": {},
   "outputs": [
    {
     "data": {
      "text/plain": [
       "age           -0.209060\n",
       "trestbps       0.706035\n",
       "chol           1.135503\n",
       "thalach       -0.537449\n",
       "oldpeak        1.269720\n",
       "num            1.058496\n",
       "sex_1.0       -0.774935\n",
       "cp_2.0         1.813882\n",
       "cp_3.0         0.963719\n",
       "cp_4.0         0.099625\n",
       "fbs_1.0        1.986652\n",
       "restecg_1.0    8.572643\n",
       "restecg_2.0    0.046447\n",
       "exang_1.0      0.742532\n",
       "slope_2.0      0.153013\n",
       "slope_3.0      3.408510\n",
       "ca_1.0         1.397846\n",
       "ca_2.0         2.273366\n",
       "ca_3.0         3.513224\n",
       "thal_6.0       3.746372\n",
       "thal_7.0       0.470065\n",
       "dtype: float64"
      ]
     },
     "execution_count": 34,
     "metadata": {},
     "output_type": "execute_result"
    }
   ],
   "source": [
    "#checking the skewness of the data\n",
    "data.skew()"
   ]
  },
  {
   "cell_type": "code",
   "execution_count": 36,
   "metadata": {},
   "outputs": [],
   "source": [
    "#Treating skewness using log transform\n",
    "list=['age','trestbps','chol','thalach','oldpeak']\n",
    "for i in list:\n",
    "    if data.skew().loc[i]>0.55:\n",
    "        data[i]=np.log1p(data[i])"
   ]
  },
  {
   "cell_type": "code",
   "execution_count": 37,
   "metadata": {},
   "outputs": [
    {
     "data": {
      "text/plain": [
       "age           -0.209060\n",
       "trestbps       0.281940\n",
       "chol           0.081733\n",
       "thalach       -0.537449\n",
       "oldpeak        0.396825\n",
       "num            1.058496\n",
       "sex_1.0       -0.774935\n",
       "cp_2.0         1.813882\n",
       "cp_3.0         0.963719\n",
       "cp_4.0         0.099625\n",
       "fbs_1.0        1.986652\n",
       "restecg_1.0    8.572643\n",
       "restecg_2.0    0.046447\n",
       "exang_1.0      0.742532\n",
       "slope_2.0      0.153013\n",
       "slope_3.0      3.408510\n",
       "ca_1.0         1.397846\n",
       "ca_2.0         2.273366\n",
       "ca_3.0         3.513224\n",
       "thal_6.0       3.746372\n",
       "thal_7.0       0.470065\n",
       "dtype: float64"
      ]
     },
     "execution_count": 37,
     "metadata": {},
     "output_type": "execute_result"
    }
   ],
   "source": [
    "data.skew()"
   ]
  },
  {
   "cell_type": "code",
   "execution_count": 38,
   "metadata": {},
   "outputs": [
    {
     "data": {
      "text/html": [
       "<div>\n",
       "<style scoped>\n",
       "    .dataframe tbody tr th:only-of-type {\n",
       "        vertical-align: middle;\n",
       "    }\n",
       "\n",
       "    .dataframe tbody tr th {\n",
       "        vertical-align: top;\n",
       "    }\n",
       "\n",
       "    .dataframe thead th {\n",
       "        text-align: right;\n",
       "    }\n",
       "</style>\n",
       "<table border=\"1\" class=\"dataframe\">\n",
       "  <thead>\n",
       "    <tr style=\"text-align: right;\">\n",
       "      <th></th>\n",
       "      <th>age</th>\n",
       "      <th>trestbps</th>\n",
       "      <th>chol</th>\n",
       "      <th>thalach</th>\n",
       "      <th>oldpeak</th>\n",
       "      <th>num</th>\n",
       "      <th>sex_1.0</th>\n",
       "      <th>cp_2.0</th>\n",
       "      <th>cp_3.0</th>\n",
       "      <th>cp_4.0</th>\n",
       "      <th>...</th>\n",
       "      <th>restecg_1.0</th>\n",
       "      <th>restecg_2.0</th>\n",
       "      <th>exang_1.0</th>\n",
       "      <th>slope_2.0</th>\n",
       "      <th>slope_3.0</th>\n",
       "      <th>ca_1.0</th>\n",
       "      <th>ca_2.0</th>\n",
       "      <th>ca_3.0</th>\n",
       "      <th>thal_6.0</th>\n",
       "      <th>thal_7.0</th>\n",
       "    </tr>\n",
       "  </thead>\n",
       "  <tbody>\n",
       "    <tr>\n",
       "      <th>0</th>\n",
       "      <td>63.0</td>\n",
       "      <td>4.983607</td>\n",
       "      <td>5.455321</td>\n",
       "      <td>150.0</td>\n",
       "      <td>1.193922</td>\n",
       "      <td>0</td>\n",
       "      <td>1</td>\n",
       "      <td>0</td>\n",
       "      <td>0</td>\n",
       "      <td>0</td>\n",
       "      <td>...</td>\n",
       "      <td>0</td>\n",
       "      <td>1</td>\n",
       "      <td>0</td>\n",
       "      <td>0</td>\n",
       "      <td>1</td>\n",
       "      <td>0</td>\n",
       "      <td>0</td>\n",
       "      <td>0</td>\n",
       "      <td>1</td>\n",
       "      <td>0</td>\n",
       "    </tr>\n",
       "    <tr>\n",
       "      <th>1</th>\n",
       "      <td>67.0</td>\n",
       "      <td>5.081404</td>\n",
       "      <td>5.659482</td>\n",
       "      <td>108.0</td>\n",
       "      <td>0.916291</td>\n",
       "      <td>2</td>\n",
       "      <td>1</td>\n",
       "      <td>0</td>\n",
       "      <td>0</td>\n",
       "      <td>1</td>\n",
       "      <td>...</td>\n",
       "      <td>0</td>\n",
       "      <td>1</td>\n",
       "      <td>1</td>\n",
       "      <td>1</td>\n",
       "      <td>0</td>\n",
       "      <td>0</td>\n",
       "      <td>0</td>\n",
       "      <td>1</td>\n",
       "      <td>0</td>\n",
       "      <td>0</td>\n",
       "    </tr>\n",
       "    <tr>\n",
       "      <th>2</th>\n",
       "      <td>67.0</td>\n",
       "      <td>4.795791</td>\n",
       "      <td>5.438079</td>\n",
       "      <td>129.0</td>\n",
       "      <td>1.280934</td>\n",
       "      <td>1</td>\n",
       "      <td>1</td>\n",
       "      <td>0</td>\n",
       "      <td>0</td>\n",
       "      <td>1</td>\n",
       "      <td>...</td>\n",
       "      <td>0</td>\n",
       "      <td>1</td>\n",
       "      <td>1</td>\n",
       "      <td>1</td>\n",
       "      <td>0</td>\n",
       "      <td>0</td>\n",
       "      <td>1</td>\n",
       "      <td>0</td>\n",
       "      <td>0</td>\n",
       "      <td>1</td>\n",
       "    </tr>\n",
       "    <tr>\n",
       "      <th>3</th>\n",
       "      <td>37.0</td>\n",
       "      <td>4.875197</td>\n",
       "      <td>5.525453</td>\n",
       "      <td>187.0</td>\n",
       "      <td>1.504077</td>\n",
       "      <td>0</td>\n",
       "      <td>1</td>\n",
       "      <td>0</td>\n",
       "      <td>1</td>\n",
       "      <td>0</td>\n",
       "      <td>...</td>\n",
       "      <td>0</td>\n",
       "      <td>0</td>\n",
       "      <td>0</td>\n",
       "      <td>0</td>\n",
       "      <td>1</td>\n",
       "      <td>0</td>\n",
       "      <td>0</td>\n",
       "      <td>0</td>\n",
       "      <td>0</td>\n",
       "      <td>0</td>\n",
       "    </tr>\n",
       "    <tr>\n",
       "      <th>4</th>\n",
       "      <td>41.0</td>\n",
       "      <td>4.875197</td>\n",
       "      <td>5.323010</td>\n",
       "      <td>172.0</td>\n",
       "      <td>0.875469</td>\n",
       "      <td>0</td>\n",
       "      <td>0</td>\n",
       "      <td>1</td>\n",
       "      <td>0</td>\n",
       "      <td>0</td>\n",
       "      <td>...</td>\n",
       "      <td>0</td>\n",
       "      <td>1</td>\n",
       "      <td>0</td>\n",
       "      <td>0</td>\n",
       "      <td>0</td>\n",
       "      <td>0</td>\n",
       "      <td>0</td>\n",
       "      <td>0</td>\n",
       "      <td>0</td>\n",
       "      <td>0</td>\n",
       "    </tr>\n",
       "    <tr>\n",
       "      <th>...</th>\n",
       "      <td>...</td>\n",
       "      <td>...</td>\n",
       "      <td>...</td>\n",
       "      <td>...</td>\n",
       "      <td>...</td>\n",
       "      <td>...</td>\n",
       "      <td>...</td>\n",
       "      <td>...</td>\n",
       "      <td>...</td>\n",
       "      <td>...</td>\n",
       "      <td>...</td>\n",
       "      <td>...</td>\n",
       "      <td>...</td>\n",
       "      <td>...</td>\n",
       "      <td>...</td>\n",
       "      <td>...</td>\n",
       "      <td>...</td>\n",
       "      <td>...</td>\n",
       "      <td>...</td>\n",
       "      <td>...</td>\n",
       "      <td>...</td>\n",
       "    </tr>\n",
       "    <tr>\n",
       "      <th>298</th>\n",
       "      <td>45.0</td>\n",
       "      <td>4.709530</td>\n",
       "      <td>5.579730</td>\n",
       "      <td>132.0</td>\n",
       "      <td>0.788457</td>\n",
       "      <td>1</td>\n",
       "      <td>1</td>\n",
       "      <td>0</td>\n",
       "      <td>0</td>\n",
       "      <td>0</td>\n",
       "      <td>...</td>\n",
       "      <td>0</td>\n",
       "      <td>0</td>\n",
       "      <td>0</td>\n",
       "      <td>1</td>\n",
       "      <td>0</td>\n",
       "      <td>0</td>\n",
       "      <td>0</td>\n",
       "      <td>0</td>\n",
       "      <td>0</td>\n",
       "      <td>1</td>\n",
       "    </tr>\n",
       "    <tr>\n",
       "      <th>299</th>\n",
       "      <td>68.0</td>\n",
       "      <td>4.976734</td>\n",
       "      <td>5.267858</td>\n",
       "      <td>141.0</td>\n",
       "      <td>1.481605</td>\n",
       "      <td>2</td>\n",
       "      <td>1</td>\n",
       "      <td>0</td>\n",
       "      <td>0</td>\n",
       "      <td>1</td>\n",
       "      <td>...</td>\n",
       "      <td>0</td>\n",
       "      <td>0</td>\n",
       "      <td>0</td>\n",
       "      <td>1</td>\n",
       "      <td>0</td>\n",
       "      <td>0</td>\n",
       "      <td>1</td>\n",
       "      <td>0</td>\n",
       "      <td>0</td>\n",
       "      <td>1</td>\n",
       "    </tr>\n",
       "    <tr>\n",
       "      <th>300</th>\n",
       "      <td>57.0</td>\n",
       "      <td>4.875197</td>\n",
       "      <td>4.882802</td>\n",
       "      <td>115.0</td>\n",
       "      <td>0.788457</td>\n",
       "      <td>3</td>\n",
       "      <td>1</td>\n",
       "      <td>0</td>\n",
       "      <td>0</td>\n",
       "      <td>1</td>\n",
       "      <td>...</td>\n",
       "      <td>0</td>\n",
       "      <td>0</td>\n",
       "      <td>1</td>\n",
       "      <td>1</td>\n",
       "      <td>0</td>\n",
       "      <td>1</td>\n",
       "      <td>0</td>\n",
       "      <td>0</td>\n",
       "      <td>0</td>\n",
       "      <td>1</td>\n",
       "    </tr>\n",
       "    <tr>\n",
       "      <th>301</th>\n",
       "      <td>57.0</td>\n",
       "      <td>4.875197</td>\n",
       "      <td>5.468060</td>\n",
       "      <td>174.0</td>\n",
       "      <td>0.000000</td>\n",
       "      <td>1</td>\n",
       "      <td>0</td>\n",
       "      <td>1</td>\n",
       "      <td>0</td>\n",
       "      <td>0</td>\n",
       "      <td>...</td>\n",
       "      <td>0</td>\n",
       "      <td>1</td>\n",
       "      <td>0</td>\n",
       "      <td>1</td>\n",
       "      <td>0</td>\n",
       "      <td>1</td>\n",
       "      <td>0</td>\n",
       "      <td>0</td>\n",
       "      <td>0</td>\n",
       "      <td>0</td>\n",
       "    </tr>\n",
       "    <tr>\n",
       "      <th>302</th>\n",
       "      <td>38.0</td>\n",
       "      <td>4.934474</td>\n",
       "      <td>5.170484</td>\n",
       "      <td>173.0</td>\n",
       "      <td>0.000000</td>\n",
       "      <td>0</td>\n",
       "      <td>1</td>\n",
       "      <td>0</td>\n",
       "      <td>1</td>\n",
       "      <td>0</td>\n",
       "      <td>...</td>\n",
       "      <td>0</td>\n",
       "      <td>0</td>\n",
       "      <td>0</td>\n",
       "      <td>0</td>\n",
       "      <td>0</td>\n",
       "      <td>0</td>\n",
       "      <td>0</td>\n",
       "      <td>0</td>\n",
       "      <td>0</td>\n",
       "      <td>0</td>\n",
       "    </tr>\n",
       "  </tbody>\n",
       "</table>\n",
       "<p>303 rows × 21 columns</p>\n",
       "</div>"
      ],
      "text/plain": [
       "      age  trestbps      chol  thalach   oldpeak  num  sex_1.0  cp_2.0  \\\n",
       "0    63.0  4.983607  5.455321    150.0  1.193922    0        1       0   \n",
       "1    67.0  5.081404  5.659482    108.0  0.916291    2        1       0   \n",
       "2    67.0  4.795791  5.438079    129.0  1.280934    1        1       0   \n",
       "3    37.0  4.875197  5.525453    187.0  1.504077    0        1       0   \n",
       "4    41.0  4.875197  5.323010    172.0  0.875469    0        0       1   \n",
       "..    ...       ...       ...      ...       ...  ...      ...     ...   \n",
       "298  45.0  4.709530  5.579730    132.0  0.788457    1        1       0   \n",
       "299  68.0  4.976734  5.267858    141.0  1.481605    2        1       0   \n",
       "300  57.0  4.875197  4.882802    115.0  0.788457    3        1       0   \n",
       "301  57.0  4.875197  5.468060    174.0  0.000000    1        0       1   \n",
       "302  38.0  4.934474  5.170484    173.0  0.000000    0        1       0   \n",
       "\n",
       "     cp_3.0  cp_4.0  ...  restecg_1.0  restecg_2.0  exang_1.0  slope_2.0  \\\n",
       "0         0       0  ...            0            1          0          0   \n",
       "1         0       1  ...            0            1          1          1   \n",
       "2         0       1  ...            0            1          1          1   \n",
       "3         1       0  ...            0            0          0          0   \n",
       "4         0       0  ...            0            1          0          0   \n",
       "..      ...     ...  ...          ...          ...        ...        ...   \n",
       "298       0       0  ...            0            0          0          1   \n",
       "299       0       1  ...            0            0          0          1   \n",
       "300       0       1  ...            0            0          1          1   \n",
       "301       0       0  ...            0            1          0          1   \n",
       "302       1       0  ...            0            0          0          0   \n",
       "\n",
       "     slope_3.0  ca_1.0  ca_2.0  ca_3.0  thal_6.0  thal_7.0  \n",
       "0            1       0       0       0         1         0  \n",
       "1            0       0       0       1         0         0  \n",
       "2            0       0       1       0         0         1  \n",
       "3            1       0       0       0         0         0  \n",
       "4            0       0       0       0         0         0  \n",
       "..         ...     ...     ...     ...       ...       ...  \n",
       "298          0       0       0       0         0         1  \n",
       "299          0       0       1       0         0         1  \n",
       "300          0       1       0       0         0         1  \n",
       "301          0       1       0       0         0         0  \n",
       "302          0       0       0       0         0         0  \n",
       "\n",
       "[303 rows x 21 columns]"
      ]
     },
     "execution_count": 38,
     "metadata": {},
     "output_type": "execute_result"
    }
   ],
   "source": [
    "data"
   ]
  },
  {
   "cell_type": "code",
   "execution_count": 39,
   "metadata": {},
   "outputs": [],
   "source": [
    "#removing outliers\n",
    "from scipy.stats import zscore"
   ]
  },
  {
   "cell_type": "code",
   "execution_count": 40,
   "metadata": {},
   "outputs": [],
   "source": [
    "z=np.abs(zscore(data))"
   ]
  },
  {
   "cell_type": "code",
   "execution_count": 41,
   "metadata": {},
   "outputs": [
    {
     "name": "stdout",
     "output_type": "stream",
     "text": [
      "Shape before removing outliers:  (303, 21)\n",
      "Shape after removing outliers:  (243, 21)\n"
     ]
    }
   ],
   "source": [
    "data_new=data[(z<3).all(axis=1)]\n",
    "print('Shape before removing outliers: ',data.shape)\n",
    "print('Shape after removing outliers: ',data_new.shape)"
   ]
  },
  {
   "cell_type": "code",
   "execution_count": 42,
   "metadata": {},
   "outputs": [
    {
     "data": {
      "text/html": [
       "<div>\n",
       "<style scoped>\n",
       "    .dataframe tbody tr th:only-of-type {\n",
       "        vertical-align: middle;\n",
       "    }\n",
       "\n",
       "    .dataframe tbody tr th {\n",
       "        vertical-align: top;\n",
       "    }\n",
       "\n",
       "    .dataframe thead th {\n",
       "        text-align: right;\n",
       "    }\n",
       "</style>\n",
       "<table border=\"1\" class=\"dataframe\">\n",
       "  <thead>\n",
       "    <tr style=\"text-align: right;\">\n",
       "      <th></th>\n",
       "      <th>age</th>\n",
       "      <th>trestbps</th>\n",
       "      <th>chol</th>\n",
       "      <th>thalach</th>\n",
       "      <th>oldpeak</th>\n",
       "      <th>num</th>\n",
       "      <th>sex_1.0</th>\n",
       "      <th>cp_2.0</th>\n",
       "      <th>cp_3.0</th>\n",
       "      <th>cp_4.0</th>\n",
       "      <th>...</th>\n",
       "      <th>restecg_1.0</th>\n",
       "      <th>restecg_2.0</th>\n",
       "      <th>exang_1.0</th>\n",
       "      <th>slope_2.0</th>\n",
       "      <th>slope_3.0</th>\n",
       "      <th>ca_1.0</th>\n",
       "      <th>ca_2.0</th>\n",
       "      <th>ca_3.0</th>\n",
       "      <th>thal_6.0</th>\n",
       "      <th>thal_7.0</th>\n",
       "    </tr>\n",
       "  </thead>\n",
       "  <tbody>\n",
       "    <tr>\n",
       "      <th>2</th>\n",
       "      <td>67.0</td>\n",
       "      <td>4.795791</td>\n",
       "      <td>5.438079</td>\n",
       "      <td>129.0</td>\n",
       "      <td>1.280934</td>\n",
       "      <td>1</td>\n",
       "      <td>1</td>\n",
       "      <td>0</td>\n",
       "      <td>0</td>\n",
       "      <td>1</td>\n",
       "      <td>...</td>\n",
       "      <td>0</td>\n",
       "      <td>1</td>\n",
       "      <td>1</td>\n",
       "      <td>1</td>\n",
       "      <td>0</td>\n",
       "      <td>0</td>\n",
       "      <td>1</td>\n",
       "      <td>0</td>\n",
       "      <td>0</td>\n",
       "      <td>1</td>\n",
       "    </tr>\n",
       "    <tr>\n",
       "      <th>4</th>\n",
       "      <td>41.0</td>\n",
       "      <td>4.875197</td>\n",
       "      <td>5.323010</td>\n",
       "      <td>172.0</td>\n",
       "      <td>0.875469</td>\n",
       "      <td>0</td>\n",
       "      <td>0</td>\n",
       "      <td>1</td>\n",
       "      <td>0</td>\n",
       "      <td>0</td>\n",
       "      <td>...</td>\n",
       "      <td>0</td>\n",
       "      <td>1</td>\n",
       "      <td>0</td>\n",
       "      <td>0</td>\n",
       "      <td>0</td>\n",
       "      <td>0</td>\n",
       "      <td>0</td>\n",
       "      <td>0</td>\n",
       "      <td>0</td>\n",
       "      <td>0</td>\n",
       "    </tr>\n",
       "    <tr>\n",
       "      <th>5</th>\n",
       "      <td>56.0</td>\n",
       "      <td>4.795791</td>\n",
       "      <td>5.468060</td>\n",
       "      <td>178.0</td>\n",
       "      <td>0.587787</td>\n",
       "      <td>0</td>\n",
       "      <td>1</td>\n",
       "      <td>1</td>\n",
       "      <td>0</td>\n",
       "      <td>0</td>\n",
       "      <td>...</td>\n",
       "      <td>0</td>\n",
       "      <td>0</td>\n",
       "      <td>0</td>\n",
       "      <td>0</td>\n",
       "      <td>0</td>\n",
       "      <td>0</td>\n",
       "      <td>0</td>\n",
       "      <td>0</td>\n",
       "      <td>0</td>\n",
       "      <td>0</td>\n",
       "    </tr>\n",
       "    <tr>\n",
       "      <th>7</th>\n",
       "      <td>57.0</td>\n",
       "      <td>4.795791</td>\n",
       "      <td>5.872118</td>\n",
       "      <td>163.0</td>\n",
       "      <td>0.470004</td>\n",
       "      <td>0</td>\n",
       "      <td>0</td>\n",
       "      <td>0</td>\n",
       "      <td>0</td>\n",
       "      <td>1</td>\n",
       "      <td>...</td>\n",
       "      <td>0</td>\n",
       "      <td>0</td>\n",
       "      <td>1</td>\n",
       "      <td>0</td>\n",
       "      <td>0</td>\n",
       "      <td>0</td>\n",
       "      <td>0</td>\n",
       "      <td>0</td>\n",
       "      <td>0</td>\n",
       "      <td>0</td>\n",
       "    </tr>\n",
       "    <tr>\n",
       "      <th>8</th>\n",
       "      <td>63.0</td>\n",
       "      <td>4.875197</td>\n",
       "      <td>5.541264</td>\n",
       "      <td>147.0</td>\n",
       "      <td>0.875469</td>\n",
       "      <td>2</td>\n",
       "      <td>1</td>\n",
       "      <td>0</td>\n",
       "      <td>0</td>\n",
       "      <td>1</td>\n",
       "      <td>...</td>\n",
       "      <td>0</td>\n",
       "      <td>1</td>\n",
       "      <td>0</td>\n",
       "      <td>1</td>\n",
       "      <td>0</td>\n",
       "      <td>1</td>\n",
       "      <td>0</td>\n",
       "      <td>0</td>\n",
       "      <td>0</td>\n",
       "      <td>1</td>\n",
       "    </tr>\n",
       "    <tr>\n",
       "      <th>...</th>\n",
       "      <td>...</td>\n",
       "      <td>...</td>\n",
       "      <td>...</td>\n",
       "      <td>...</td>\n",
       "      <td>...</td>\n",
       "      <td>...</td>\n",
       "      <td>...</td>\n",
       "      <td>...</td>\n",
       "      <td>...</td>\n",
       "      <td>...</td>\n",
       "      <td>...</td>\n",
       "      <td>...</td>\n",
       "      <td>...</td>\n",
       "      <td>...</td>\n",
       "      <td>...</td>\n",
       "      <td>...</td>\n",
       "      <td>...</td>\n",
       "      <td>...</td>\n",
       "      <td>...</td>\n",
       "      <td>...</td>\n",
       "      <td>...</td>\n",
       "    </tr>\n",
       "    <tr>\n",
       "      <th>297</th>\n",
       "      <td>57.0</td>\n",
       "      <td>4.948760</td>\n",
       "      <td>5.488938</td>\n",
       "      <td>123.0</td>\n",
       "      <td>0.182322</td>\n",
       "      <td>1</td>\n",
       "      <td>0</td>\n",
       "      <td>0</td>\n",
       "      <td>0</td>\n",
       "      <td>1</td>\n",
       "      <td>...</td>\n",
       "      <td>0</td>\n",
       "      <td>0</td>\n",
       "      <td>1</td>\n",
       "      <td>1</td>\n",
       "      <td>0</td>\n",
       "      <td>0</td>\n",
       "      <td>0</td>\n",
       "      <td>0</td>\n",
       "      <td>0</td>\n",
       "      <td>1</td>\n",
       "    </tr>\n",
       "    <tr>\n",
       "      <th>298</th>\n",
       "      <td>45.0</td>\n",
       "      <td>4.709530</td>\n",
       "      <td>5.579730</td>\n",
       "      <td>132.0</td>\n",
       "      <td>0.788457</td>\n",
       "      <td>1</td>\n",
       "      <td>1</td>\n",
       "      <td>0</td>\n",
       "      <td>0</td>\n",
       "      <td>0</td>\n",
       "      <td>...</td>\n",
       "      <td>0</td>\n",
       "      <td>0</td>\n",
       "      <td>0</td>\n",
       "      <td>1</td>\n",
       "      <td>0</td>\n",
       "      <td>0</td>\n",
       "      <td>0</td>\n",
       "      <td>0</td>\n",
       "      <td>0</td>\n",
       "      <td>1</td>\n",
       "    </tr>\n",
       "    <tr>\n",
       "      <th>299</th>\n",
       "      <td>68.0</td>\n",
       "      <td>4.976734</td>\n",
       "      <td>5.267858</td>\n",
       "      <td>141.0</td>\n",
       "      <td>1.481605</td>\n",
       "      <td>2</td>\n",
       "      <td>1</td>\n",
       "      <td>0</td>\n",
       "      <td>0</td>\n",
       "      <td>1</td>\n",
       "      <td>...</td>\n",
       "      <td>0</td>\n",
       "      <td>0</td>\n",
       "      <td>0</td>\n",
       "      <td>1</td>\n",
       "      <td>0</td>\n",
       "      <td>0</td>\n",
       "      <td>1</td>\n",
       "      <td>0</td>\n",
       "      <td>0</td>\n",
       "      <td>1</td>\n",
       "    </tr>\n",
       "    <tr>\n",
       "      <th>301</th>\n",
       "      <td>57.0</td>\n",
       "      <td>4.875197</td>\n",
       "      <td>5.468060</td>\n",
       "      <td>174.0</td>\n",
       "      <td>0.000000</td>\n",
       "      <td>1</td>\n",
       "      <td>0</td>\n",
       "      <td>1</td>\n",
       "      <td>0</td>\n",
       "      <td>0</td>\n",
       "      <td>...</td>\n",
       "      <td>0</td>\n",
       "      <td>1</td>\n",
       "      <td>0</td>\n",
       "      <td>1</td>\n",
       "      <td>0</td>\n",
       "      <td>1</td>\n",
       "      <td>0</td>\n",
       "      <td>0</td>\n",
       "      <td>0</td>\n",
       "      <td>0</td>\n",
       "    </tr>\n",
       "    <tr>\n",
       "      <th>302</th>\n",
       "      <td>38.0</td>\n",
       "      <td>4.934474</td>\n",
       "      <td>5.170484</td>\n",
       "      <td>173.0</td>\n",
       "      <td>0.000000</td>\n",
       "      <td>0</td>\n",
       "      <td>1</td>\n",
       "      <td>0</td>\n",
       "      <td>1</td>\n",
       "      <td>0</td>\n",
       "      <td>...</td>\n",
       "      <td>0</td>\n",
       "      <td>0</td>\n",
       "      <td>0</td>\n",
       "      <td>0</td>\n",
       "      <td>0</td>\n",
       "      <td>0</td>\n",
       "      <td>0</td>\n",
       "      <td>0</td>\n",
       "      <td>0</td>\n",
       "      <td>0</td>\n",
       "    </tr>\n",
       "  </tbody>\n",
       "</table>\n",
       "<p>243 rows × 21 columns</p>\n",
       "</div>"
      ],
      "text/plain": [
       "      age  trestbps      chol  thalach   oldpeak  num  sex_1.0  cp_2.0  \\\n",
       "2    67.0  4.795791  5.438079    129.0  1.280934    1        1       0   \n",
       "4    41.0  4.875197  5.323010    172.0  0.875469    0        0       1   \n",
       "5    56.0  4.795791  5.468060    178.0  0.587787    0        1       1   \n",
       "7    57.0  4.795791  5.872118    163.0  0.470004    0        0       0   \n",
       "8    63.0  4.875197  5.541264    147.0  0.875469    2        1       0   \n",
       "..    ...       ...       ...      ...       ...  ...      ...     ...   \n",
       "297  57.0  4.948760  5.488938    123.0  0.182322    1        0       0   \n",
       "298  45.0  4.709530  5.579730    132.0  0.788457    1        1       0   \n",
       "299  68.0  4.976734  5.267858    141.0  1.481605    2        1       0   \n",
       "301  57.0  4.875197  5.468060    174.0  0.000000    1        0       1   \n",
       "302  38.0  4.934474  5.170484    173.0  0.000000    0        1       0   \n",
       "\n",
       "     cp_3.0  cp_4.0  ...  restecg_1.0  restecg_2.0  exang_1.0  slope_2.0  \\\n",
       "2         0       1  ...            0            1          1          1   \n",
       "4         0       0  ...            0            1          0          0   \n",
       "5         0       0  ...            0            0          0          0   \n",
       "7         0       1  ...            0            0          1          0   \n",
       "8         0       1  ...            0            1          0          1   \n",
       "..      ...     ...  ...          ...          ...        ...        ...   \n",
       "297       0       1  ...            0            0          1          1   \n",
       "298       0       0  ...            0            0          0          1   \n",
       "299       0       1  ...            0            0          0          1   \n",
       "301       0       0  ...            0            1          0          1   \n",
       "302       1       0  ...            0            0          0          0   \n",
       "\n",
       "     slope_3.0  ca_1.0  ca_2.0  ca_3.0  thal_6.0  thal_7.0  \n",
       "2            0       0       1       0         0         1  \n",
       "4            0       0       0       0         0         0  \n",
       "5            0       0       0       0         0         0  \n",
       "7            0       0       0       0         0         0  \n",
       "8            0       1       0       0         0         1  \n",
       "..         ...     ...     ...     ...       ...       ...  \n",
       "297          0       0       0       0         0         1  \n",
       "298          0       0       0       0         0         1  \n",
       "299          0       0       1       0         0         1  \n",
       "301          0       1       0       0         0         0  \n",
       "302          0       0       0       0         0         0  \n",
       "\n",
       "[243 rows x 21 columns]"
      ]
     },
     "execution_count": 42,
     "metadata": {},
     "output_type": "execute_result"
    }
   ],
   "source": [
    "data_new"
   ]
  },
  {
   "cell_type": "code",
   "execution_count": 43,
   "metadata": {},
   "outputs": [
    {
     "data": {
      "text/html": [
       "<div>\n",
       "<style scoped>\n",
       "    .dataframe tbody tr th:only-of-type {\n",
       "        vertical-align: middle;\n",
       "    }\n",
       "\n",
       "    .dataframe tbody tr th {\n",
       "        vertical-align: top;\n",
       "    }\n",
       "\n",
       "    .dataframe thead th {\n",
       "        text-align: right;\n",
       "    }\n",
       "</style>\n",
       "<table border=\"1\" class=\"dataframe\">\n",
       "  <thead>\n",
       "    <tr style=\"text-align: right;\">\n",
       "      <th></th>\n",
       "      <th>age</th>\n",
       "      <th>trestbps</th>\n",
       "      <th>chol</th>\n",
       "      <th>thalach</th>\n",
       "      <th>oldpeak</th>\n",
       "      <th>sex_1.0</th>\n",
       "      <th>cp_2.0</th>\n",
       "      <th>cp_3.0</th>\n",
       "      <th>cp_4.0</th>\n",
       "      <th>fbs_1.0</th>\n",
       "      <th>restecg_1.0</th>\n",
       "      <th>restecg_2.0</th>\n",
       "      <th>exang_1.0</th>\n",
       "      <th>slope_2.0</th>\n",
       "      <th>slope_3.0</th>\n",
       "      <th>ca_1.0</th>\n",
       "      <th>ca_2.0</th>\n",
       "      <th>ca_3.0</th>\n",
       "      <th>thal_6.0</th>\n",
       "      <th>thal_7.0</th>\n",
       "    </tr>\n",
       "  </thead>\n",
       "  <tbody>\n",
       "    <tr>\n",
       "      <th>2</th>\n",
       "      <td>67.0</td>\n",
       "      <td>4.795791</td>\n",
       "      <td>5.438079</td>\n",
       "      <td>129.0</td>\n",
       "      <td>1.280934</td>\n",
       "      <td>1</td>\n",
       "      <td>0</td>\n",
       "      <td>0</td>\n",
       "      <td>1</td>\n",
       "      <td>0</td>\n",
       "      <td>0</td>\n",
       "      <td>1</td>\n",
       "      <td>1</td>\n",
       "      <td>1</td>\n",
       "      <td>0</td>\n",
       "      <td>0</td>\n",
       "      <td>1</td>\n",
       "      <td>0</td>\n",
       "      <td>0</td>\n",
       "      <td>1</td>\n",
       "    </tr>\n",
       "    <tr>\n",
       "      <th>4</th>\n",
       "      <td>41.0</td>\n",
       "      <td>4.875197</td>\n",
       "      <td>5.323010</td>\n",
       "      <td>172.0</td>\n",
       "      <td>0.875469</td>\n",
       "      <td>0</td>\n",
       "      <td>1</td>\n",
       "      <td>0</td>\n",
       "      <td>0</td>\n",
       "      <td>0</td>\n",
       "      <td>0</td>\n",
       "      <td>1</td>\n",
       "      <td>0</td>\n",
       "      <td>0</td>\n",
       "      <td>0</td>\n",
       "      <td>0</td>\n",
       "      <td>0</td>\n",
       "      <td>0</td>\n",
       "      <td>0</td>\n",
       "      <td>0</td>\n",
       "    </tr>\n",
       "    <tr>\n",
       "      <th>5</th>\n",
       "      <td>56.0</td>\n",
       "      <td>4.795791</td>\n",
       "      <td>5.468060</td>\n",
       "      <td>178.0</td>\n",
       "      <td>0.587787</td>\n",
       "      <td>1</td>\n",
       "      <td>1</td>\n",
       "      <td>0</td>\n",
       "      <td>0</td>\n",
       "      <td>0</td>\n",
       "      <td>0</td>\n",
       "      <td>0</td>\n",
       "      <td>0</td>\n",
       "      <td>0</td>\n",
       "      <td>0</td>\n",
       "      <td>0</td>\n",
       "      <td>0</td>\n",
       "      <td>0</td>\n",
       "      <td>0</td>\n",
       "      <td>0</td>\n",
       "    </tr>\n",
       "    <tr>\n",
       "      <th>7</th>\n",
       "      <td>57.0</td>\n",
       "      <td>4.795791</td>\n",
       "      <td>5.872118</td>\n",
       "      <td>163.0</td>\n",
       "      <td>0.470004</td>\n",
       "      <td>0</td>\n",
       "      <td>0</td>\n",
       "      <td>0</td>\n",
       "      <td>1</td>\n",
       "      <td>0</td>\n",
       "      <td>0</td>\n",
       "      <td>0</td>\n",
       "      <td>1</td>\n",
       "      <td>0</td>\n",
       "      <td>0</td>\n",
       "      <td>0</td>\n",
       "      <td>0</td>\n",
       "      <td>0</td>\n",
       "      <td>0</td>\n",
       "      <td>0</td>\n",
       "    </tr>\n",
       "    <tr>\n",
       "      <th>8</th>\n",
       "      <td>63.0</td>\n",
       "      <td>4.875197</td>\n",
       "      <td>5.541264</td>\n",
       "      <td>147.0</td>\n",
       "      <td>0.875469</td>\n",
       "      <td>1</td>\n",
       "      <td>0</td>\n",
       "      <td>0</td>\n",
       "      <td>1</td>\n",
       "      <td>0</td>\n",
       "      <td>0</td>\n",
       "      <td>1</td>\n",
       "      <td>0</td>\n",
       "      <td>1</td>\n",
       "      <td>0</td>\n",
       "      <td>1</td>\n",
       "      <td>0</td>\n",
       "      <td>0</td>\n",
       "      <td>0</td>\n",
       "      <td>1</td>\n",
       "    </tr>\n",
       "    <tr>\n",
       "      <th>...</th>\n",
       "      <td>...</td>\n",
       "      <td>...</td>\n",
       "      <td>...</td>\n",
       "      <td>...</td>\n",
       "      <td>...</td>\n",
       "      <td>...</td>\n",
       "      <td>...</td>\n",
       "      <td>...</td>\n",
       "      <td>...</td>\n",
       "      <td>...</td>\n",
       "      <td>...</td>\n",
       "      <td>...</td>\n",
       "      <td>...</td>\n",
       "      <td>...</td>\n",
       "      <td>...</td>\n",
       "      <td>...</td>\n",
       "      <td>...</td>\n",
       "      <td>...</td>\n",
       "      <td>...</td>\n",
       "      <td>...</td>\n",
       "    </tr>\n",
       "    <tr>\n",
       "      <th>297</th>\n",
       "      <td>57.0</td>\n",
       "      <td>4.948760</td>\n",
       "      <td>5.488938</td>\n",
       "      <td>123.0</td>\n",
       "      <td>0.182322</td>\n",
       "      <td>0</td>\n",
       "      <td>0</td>\n",
       "      <td>0</td>\n",
       "      <td>1</td>\n",
       "      <td>0</td>\n",
       "      <td>0</td>\n",
       "      <td>0</td>\n",
       "      <td>1</td>\n",
       "      <td>1</td>\n",
       "      <td>0</td>\n",
       "      <td>0</td>\n",
       "      <td>0</td>\n",
       "      <td>0</td>\n",
       "      <td>0</td>\n",
       "      <td>1</td>\n",
       "    </tr>\n",
       "    <tr>\n",
       "      <th>298</th>\n",
       "      <td>45.0</td>\n",
       "      <td>4.709530</td>\n",
       "      <td>5.579730</td>\n",
       "      <td>132.0</td>\n",
       "      <td>0.788457</td>\n",
       "      <td>1</td>\n",
       "      <td>0</td>\n",
       "      <td>0</td>\n",
       "      <td>0</td>\n",
       "      <td>0</td>\n",
       "      <td>0</td>\n",
       "      <td>0</td>\n",
       "      <td>0</td>\n",
       "      <td>1</td>\n",
       "      <td>0</td>\n",
       "      <td>0</td>\n",
       "      <td>0</td>\n",
       "      <td>0</td>\n",
       "      <td>0</td>\n",
       "      <td>1</td>\n",
       "    </tr>\n",
       "    <tr>\n",
       "      <th>299</th>\n",
       "      <td>68.0</td>\n",
       "      <td>4.976734</td>\n",
       "      <td>5.267858</td>\n",
       "      <td>141.0</td>\n",
       "      <td>1.481605</td>\n",
       "      <td>1</td>\n",
       "      <td>0</td>\n",
       "      <td>0</td>\n",
       "      <td>1</td>\n",
       "      <td>1</td>\n",
       "      <td>0</td>\n",
       "      <td>0</td>\n",
       "      <td>0</td>\n",
       "      <td>1</td>\n",
       "      <td>0</td>\n",
       "      <td>0</td>\n",
       "      <td>1</td>\n",
       "      <td>0</td>\n",
       "      <td>0</td>\n",
       "      <td>1</td>\n",
       "    </tr>\n",
       "    <tr>\n",
       "      <th>301</th>\n",
       "      <td>57.0</td>\n",
       "      <td>4.875197</td>\n",
       "      <td>5.468060</td>\n",
       "      <td>174.0</td>\n",
       "      <td>0.000000</td>\n",
       "      <td>0</td>\n",
       "      <td>1</td>\n",
       "      <td>0</td>\n",
       "      <td>0</td>\n",
       "      <td>0</td>\n",
       "      <td>0</td>\n",
       "      <td>1</td>\n",
       "      <td>0</td>\n",
       "      <td>1</td>\n",
       "      <td>0</td>\n",
       "      <td>1</td>\n",
       "      <td>0</td>\n",
       "      <td>0</td>\n",
       "      <td>0</td>\n",
       "      <td>0</td>\n",
       "    </tr>\n",
       "    <tr>\n",
       "      <th>302</th>\n",
       "      <td>38.0</td>\n",
       "      <td>4.934474</td>\n",
       "      <td>5.170484</td>\n",
       "      <td>173.0</td>\n",
       "      <td>0.000000</td>\n",
       "      <td>1</td>\n",
       "      <td>0</td>\n",
       "      <td>1</td>\n",
       "      <td>0</td>\n",
       "      <td>0</td>\n",
       "      <td>0</td>\n",
       "      <td>0</td>\n",
       "      <td>0</td>\n",
       "      <td>0</td>\n",
       "      <td>0</td>\n",
       "      <td>0</td>\n",
       "      <td>0</td>\n",
       "      <td>0</td>\n",
       "      <td>0</td>\n",
       "      <td>0</td>\n",
       "    </tr>\n",
       "  </tbody>\n",
       "</table>\n",
       "<p>243 rows × 20 columns</p>\n",
       "</div>"
      ],
      "text/plain": [
       "      age  trestbps      chol  thalach   oldpeak  sex_1.0  cp_2.0  cp_3.0  \\\n",
       "2    67.0  4.795791  5.438079    129.0  1.280934        1       0       0   \n",
       "4    41.0  4.875197  5.323010    172.0  0.875469        0       1       0   \n",
       "5    56.0  4.795791  5.468060    178.0  0.587787        1       1       0   \n",
       "7    57.0  4.795791  5.872118    163.0  0.470004        0       0       0   \n",
       "8    63.0  4.875197  5.541264    147.0  0.875469        1       0       0   \n",
       "..    ...       ...       ...      ...       ...      ...     ...     ...   \n",
       "297  57.0  4.948760  5.488938    123.0  0.182322        0       0       0   \n",
       "298  45.0  4.709530  5.579730    132.0  0.788457        1       0       0   \n",
       "299  68.0  4.976734  5.267858    141.0  1.481605        1       0       0   \n",
       "301  57.0  4.875197  5.468060    174.0  0.000000        0       1       0   \n",
       "302  38.0  4.934474  5.170484    173.0  0.000000        1       0       1   \n",
       "\n",
       "     cp_4.0  fbs_1.0  restecg_1.0  restecg_2.0  exang_1.0  slope_2.0  \\\n",
       "2         1        0            0            1          1          1   \n",
       "4         0        0            0            1          0          0   \n",
       "5         0        0            0            0          0          0   \n",
       "7         1        0            0            0          1          0   \n",
       "8         1        0            0            1          0          1   \n",
       "..      ...      ...          ...          ...        ...        ...   \n",
       "297       1        0            0            0          1          1   \n",
       "298       0        0            0            0          0          1   \n",
       "299       1        1            0            0          0          1   \n",
       "301       0        0            0            1          0          1   \n",
       "302       0        0            0            0          0          0   \n",
       "\n",
       "     slope_3.0  ca_1.0  ca_2.0  ca_3.0  thal_6.0  thal_7.0  \n",
       "2            0       0       1       0         0         1  \n",
       "4            0       0       0       0         0         0  \n",
       "5            0       0       0       0         0         0  \n",
       "7            0       0       0       0         0         0  \n",
       "8            0       1       0       0         0         1  \n",
       "..         ...     ...     ...     ...       ...       ...  \n",
       "297          0       0       0       0         0         1  \n",
       "298          0       0       0       0         0         1  \n",
       "299          0       0       1       0         0         1  \n",
       "301          0       1       0       0         0         0  \n",
       "302          0       0       0       0         0         0  \n",
       "\n",
       "[243 rows x 20 columns]"
      ]
     },
     "execution_count": 43,
     "metadata": {},
     "output_type": "execute_result"
    }
   ],
   "source": [
    "x=data_new.drop(['num'],axis=1)\n",
    "x"
   ]
  },
  {
   "cell_type": "code",
   "execution_count": 44,
   "metadata": {},
   "outputs": [
    {
     "data": {
      "text/plain": [
       "2      1\n",
       "4      0\n",
       "5      0\n",
       "7      0\n",
       "8      2\n",
       "      ..\n",
       "297    1\n",
       "298    1\n",
       "299    2\n",
       "301    1\n",
       "302    0\n",
       "Name: num, Length: 243, dtype: int64"
      ]
     },
     "execution_count": 44,
     "metadata": {},
     "output_type": "execute_result"
    }
   ],
   "source": [
    "y=data_new['num']\n",
    "y"
   ]
  },
  {
   "cell_type": "code",
   "execution_count": 45,
   "metadata": {},
   "outputs": [],
   "source": [
    "#Scaling the data.\n",
    "from sklearn.preprocessing import StandardScaler"
   ]
  },
  {
   "cell_type": "code",
   "execution_count": 46,
   "metadata": {},
   "outputs": [],
   "source": [
    "sc=StandardScaler()\n",
    "list=['age','trestbps','chol','thalach','oldpeak']\n",
    "for i in list:\n",
    "    x[i]=sc.fit_transform(x[i].values.reshape(-1,1))"
   ]
  },
  {
   "cell_type": "code",
   "execution_count": 47,
   "metadata": {},
   "outputs": [
    {
     "data": {
      "text/html": [
       "<div>\n",
       "<style scoped>\n",
       "    .dataframe tbody tr th:only-of-type {\n",
       "        vertical-align: middle;\n",
       "    }\n",
       "\n",
       "    .dataframe tbody tr th {\n",
       "        vertical-align: top;\n",
       "    }\n",
       "\n",
       "    .dataframe thead th {\n",
       "        text-align: right;\n",
       "    }\n",
       "</style>\n",
       "<table border=\"1\" class=\"dataframe\">\n",
       "  <thead>\n",
       "    <tr style=\"text-align: right;\">\n",
       "      <th></th>\n",
       "      <th>age</th>\n",
       "      <th>trestbps</th>\n",
       "      <th>chol</th>\n",
       "      <th>thalach</th>\n",
       "      <th>oldpeak</th>\n",
       "      <th>sex_1.0</th>\n",
       "      <th>cp_2.0</th>\n",
       "      <th>cp_3.0</th>\n",
       "      <th>cp_4.0</th>\n",
       "      <th>fbs_1.0</th>\n",
       "      <th>restecg_1.0</th>\n",
       "      <th>restecg_2.0</th>\n",
       "      <th>exang_1.0</th>\n",
       "      <th>slope_2.0</th>\n",
       "      <th>slope_3.0</th>\n",
       "      <th>ca_1.0</th>\n",
       "      <th>ca_2.0</th>\n",
       "      <th>ca_3.0</th>\n",
       "      <th>thal_6.0</th>\n",
       "      <th>thal_7.0</th>\n",
       "    </tr>\n",
       "  </thead>\n",
       "  <tbody>\n",
       "    <tr>\n",
       "      <th>2</th>\n",
       "      <td>1.483722</td>\n",
       "      <td>-0.574270</td>\n",
       "      <td>-0.312609</td>\n",
       "      <td>-1.117579</td>\n",
       "      <td>1.645811</td>\n",
       "      <td>1</td>\n",
       "      <td>0</td>\n",
       "      <td>0</td>\n",
       "      <td>1</td>\n",
       "      <td>0</td>\n",
       "      <td>0</td>\n",
       "      <td>1</td>\n",
       "      <td>1</td>\n",
       "      <td>1</td>\n",
       "      <td>0</td>\n",
       "      <td>0</td>\n",
       "      <td>1</td>\n",
       "      <td>0</td>\n",
       "      <td>0</td>\n",
       "      <td>1</td>\n",
       "    </tr>\n",
       "    <tr>\n",
       "      <th>4</th>\n",
       "      <td>-1.400633</td>\n",
       "      <td>0.056050</td>\n",
       "      <td>-0.931879</td>\n",
       "      <td>0.904514</td>\n",
       "      <td>0.810214</td>\n",
       "      <td>0</td>\n",
       "      <td>1</td>\n",
       "      <td>0</td>\n",
       "      <td>0</td>\n",
       "      <td>0</td>\n",
       "      <td>0</td>\n",
       "      <td>1</td>\n",
       "      <td>0</td>\n",
       "      <td>0</td>\n",
       "      <td>0</td>\n",
       "      <td>0</td>\n",
       "      <td>0</td>\n",
       "      <td>0</td>\n",
       "      <td>0</td>\n",
       "      <td>0</td>\n",
       "    </tr>\n",
       "    <tr>\n",
       "      <th>5</th>\n",
       "      <td>0.263418</td>\n",
       "      <td>-0.574270</td>\n",
       "      <td>-0.151261</td>\n",
       "      <td>1.186666</td>\n",
       "      <td>0.217349</td>\n",
       "      <td>1</td>\n",
       "      <td>1</td>\n",
       "      <td>0</td>\n",
       "      <td>0</td>\n",
       "      <td>0</td>\n",
       "      <td>0</td>\n",
       "      <td>0</td>\n",
       "      <td>0</td>\n",
       "      <td>0</td>\n",
       "      <td>0</td>\n",
       "      <td>0</td>\n",
       "      <td>0</td>\n",
       "      <td>0</td>\n",
       "      <td>0</td>\n",
       "      <td>0</td>\n",
       "    </tr>\n",
       "    <tr>\n",
       "      <th>7</th>\n",
       "      <td>0.374354</td>\n",
       "      <td>-0.574270</td>\n",
       "      <td>2.023262</td>\n",
       "      <td>0.481285</td>\n",
       "      <td>-0.025382</td>\n",
       "      <td>0</td>\n",
       "      <td>0</td>\n",
       "      <td>0</td>\n",
       "      <td>1</td>\n",
       "      <td>0</td>\n",
       "      <td>0</td>\n",
       "      <td>0</td>\n",
       "      <td>1</td>\n",
       "      <td>0</td>\n",
       "      <td>0</td>\n",
       "      <td>0</td>\n",
       "      <td>0</td>\n",
       "      <td>0</td>\n",
       "      <td>0</td>\n",
       "      <td>0</td>\n",
       "    </tr>\n",
       "    <tr>\n",
       "      <th>8</th>\n",
       "      <td>1.039975</td>\n",
       "      <td>0.056050</td>\n",
       "      <td>0.242699</td>\n",
       "      <td>-0.271122</td>\n",
       "      <td>0.810214</td>\n",
       "      <td>1</td>\n",
       "      <td>0</td>\n",
       "      <td>0</td>\n",
       "      <td>1</td>\n",
       "      <td>0</td>\n",
       "      <td>0</td>\n",
       "      <td>1</td>\n",
       "      <td>0</td>\n",
       "      <td>1</td>\n",
       "      <td>0</td>\n",
       "      <td>1</td>\n",
       "      <td>0</td>\n",
       "      <td>0</td>\n",
       "      <td>0</td>\n",
       "      <td>1</td>\n",
       "    </tr>\n",
       "    <tr>\n",
       "      <th>...</th>\n",
       "      <td>...</td>\n",
       "      <td>...</td>\n",
       "      <td>...</td>\n",
       "      <td>...</td>\n",
       "      <td>...</td>\n",
       "      <td>...</td>\n",
       "      <td>...</td>\n",
       "      <td>...</td>\n",
       "      <td>...</td>\n",
       "      <td>...</td>\n",
       "      <td>...</td>\n",
       "      <td>...</td>\n",
       "      <td>...</td>\n",
       "      <td>...</td>\n",
       "      <td>...</td>\n",
       "      <td>...</td>\n",
       "      <td>...</td>\n",
       "      <td>...</td>\n",
       "      <td>...</td>\n",
       "      <td>...</td>\n",
       "    </tr>\n",
       "    <tr>\n",
       "      <th>297</th>\n",
       "      <td>0.374354</td>\n",
       "      <td>0.639980</td>\n",
       "      <td>-0.038904</td>\n",
       "      <td>-1.399732</td>\n",
       "      <td>-0.618247</td>\n",
       "      <td>0</td>\n",
       "      <td>0</td>\n",
       "      <td>0</td>\n",
       "      <td>1</td>\n",
       "      <td>0</td>\n",
       "      <td>0</td>\n",
       "      <td>0</td>\n",
       "      <td>1</td>\n",
       "      <td>1</td>\n",
       "      <td>0</td>\n",
       "      <td>0</td>\n",
       "      <td>0</td>\n",
       "      <td>0</td>\n",
       "      <td>0</td>\n",
       "      <td>1</td>\n",
       "    </tr>\n",
       "    <tr>\n",
       "      <th>298</th>\n",
       "      <td>-0.956887</td>\n",
       "      <td>-1.258993</td>\n",
       "      <td>0.449713</td>\n",
       "      <td>-0.976503</td>\n",
       "      <td>0.630898</td>\n",
       "      <td>1</td>\n",
       "      <td>0</td>\n",
       "      <td>0</td>\n",
       "      <td>0</td>\n",
       "      <td>0</td>\n",
       "      <td>0</td>\n",
       "      <td>0</td>\n",
       "      <td>0</td>\n",
       "      <td>1</td>\n",
       "      <td>0</td>\n",
       "      <td>0</td>\n",
       "      <td>0</td>\n",
       "      <td>0</td>\n",
       "      <td>0</td>\n",
       "      <td>1</td>\n",
       "    </tr>\n",
       "    <tr>\n",
       "      <th>299</th>\n",
       "      <td>1.594659</td>\n",
       "      <td>0.862032</td>\n",
       "      <td>-1.228691</td>\n",
       "      <td>-0.553274</td>\n",
       "      <td>2.059360</td>\n",
       "      <td>1</td>\n",
       "      <td>0</td>\n",
       "      <td>0</td>\n",
       "      <td>1</td>\n",
       "      <td>1</td>\n",
       "      <td>0</td>\n",
       "      <td>0</td>\n",
       "      <td>0</td>\n",
       "      <td>1</td>\n",
       "      <td>0</td>\n",
       "      <td>0</td>\n",
       "      <td>1</td>\n",
       "      <td>0</td>\n",
       "      <td>0</td>\n",
       "      <td>1</td>\n",
       "    </tr>\n",
       "    <tr>\n",
       "      <th>301</th>\n",
       "      <td>0.374354</td>\n",
       "      <td>0.056050</td>\n",
       "      <td>-0.151261</td>\n",
       "      <td>0.998564</td>\n",
       "      <td>-0.993982</td>\n",
       "      <td>0</td>\n",
       "      <td>1</td>\n",
       "      <td>0</td>\n",
       "      <td>0</td>\n",
       "      <td>0</td>\n",
       "      <td>0</td>\n",
       "      <td>1</td>\n",
       "      <td>0</td>\n",
       "      <td>1</td>\n",
       "      <td>0</td>\n",
       "      <td>1</td>\n",
       "      <td>0</td>\n",
       "      <td>0</td>\n",
       "      <td>0</td>\n",
       "      <td>0</td>\n",
       "    </tr>\n",
       "    <tr>\n",
       "      <th>302</th>\n",
       "      <td>-1.733444</td>\n",
       "      <td>0.526580</td>\n",
       "      <td>-1.752731</td>\n",
       "      <td>0.951539</td>\n",
       "      <td>-0.993982</td>\n",
       "      <td>1</td>\n",
       "      <td>0</td>\n",
       "      <td>1</td>\n",
       "      <td>0</td>\n",
       "      <td>0</td>\n",
       "      <td>0</td>\n",
       "      <td>0</td>\n",
       "      <td>0</td>\n",
       "      <td>0</td>\n",
       "      <td>0</td>\n",
       "      <td>0</td>\n",
       "      <td>0</td>\n",
       "      <td>0</td>\n",
       "      <td>0</td>\n",
       "      <td>0</td>\n",
       "    </tr>\n",
       "  </tbody>\n",
       "</table>\n",
       "<p>243 rows × 20 columns</p>\n",
       "</div>"
      ],
      "text/plain": [
       "          age  trestbps      chol   thalach   oldpeak  sex_1.0  cp_2.0  \\\n",
       "2    1.483722 -0.574270 -0.312609 -1.117579  1.645811        1       0   \n",
       "4   -1.400633  0.056050 -0.931879  0.904514  0.810214        0       1   \n",
       "5    0.263418 -0.574270 -0.151261  1.186666  0.217349        1       1   \n",
       "7    0.374354 -0.574270  2.023262  0.481285 -0.025382        0       0   \n",
       "8    1.039975  0.056050  0.242699 -0.271122  0.810214        1       0   \n",
       "..        ...       ...       ...       ...       ...      ...     ...   \n",
       "297  0.374354  0.639980 -0.038904 -1.399732 -0.618247        0       0   \n",
       "298 -0.956887 -1.258993  0.449713 -0.976503  0.630898        1       0   \n",
       "299  1.594659  0.862032 -1.228691 -0.553274  2.059360        1       0   \n",
       "301  0.374354  0.056050 -0.151261  0.998564 -0.993982        0       1   \n",
       "302 -1.733444  0.526580 -1.752731  0.951539 -0.993982        1       0   \n",
       "\n",
       "     cp_3.0  cp_4.0  fbs_1.0  restecg_1.0  restecg_2.0  exang_1.0  slope_2.0  \\\n",
       "2         0       1        0            0            1          1          1   \n",
       "4         0       0        0            0            1          0          0   \n",
       "5         0       0        0            0            0          0          0   \n",
       "7         0       1        0            0            0          1          0   \n",
       "8         0       1        0            0            1          0          1   \n",
       "..      ...     ...      ...          ...          ...        ...        ...   \n",
       "297       0       1        0            0            0          1          1   \n",
       "298       0       0        0            0            0          0          1   \n",
       "299       0       1        1            0            0          0          1   \n",
       "301       0       0        0            0            1          0          1   \n",
       "302       1       0        0            0            0          0          0   \n",
       "\n",
       "     slope_3.0  ca_1.0  ca_2.0  ca_3.0  thal_6.0  thal_7.0  \n",
       "2            0       0       1       0         0         1  \n",
       "4            0       0       0       0         0         0  \n",
       "5            0       0       0       0         0         0  \n",
       "7            0       0       0       0         0         0  \n",
       "8            0       1       0       0         0         1  \n",
       "..         ...     ...     ...     ...       ...       ...  \n",
       "297          0       0       0       0         0         1  \n",
       "298          0       0       0       0         0         1  \n",
       "299          0       0       1       0         0         1  \n",
       "301          0       1       0       0         0         0  \n",
       "302          0       0       0       0         0         0  \n",
       "\n",
       "[243 rows x 20 columns]"
      ]
     },
     "execution_count": 47,
     "metadata": {},
     "output_type": "execute_result"
    }
   ],
   "source": [
    "x"
   ]
  },
  {
   "cell_type": "code",
   "execution_count": 48,
   "metadata": {},
   "outputs": [],
   "source": [
    "from sklearn.model_selection import train_test_split\n",
    "from sklearn.tree import DecisionTreeClassifier\n",
    "from sklearn.svm import SVC\n",
    "from sklearn.neighbors import KNeighborsClassifier\n",
    "from sklearn.ensemble import RandomForestClassifier\n",
    "from sklearn.metrics import accuracy_score,classification_report,confusion_matrix"
   ]
  },
  {
   "cell_type": "code",
   "execution_count": 62,
   "metadata": {},
   "outputs": [
    {
     "name": "stdout",
     "output_type": "stream",
     "text": [
      "for the algorithm : DecisionTreeClassifier()\n",
      "accuracy score corresponding to random state 33 is:  0.5714285714285714\n",
      "accuracy score corresponding to random state 34 is:  0.6530612244897959\n",
      "accuracy score corresponding to random state 35 is:  0.5102040816326531\n",
      "accuracy score corresponding to random state 36 is:  0.6326530612244898\n",
      "accuracy score corresponding to random state 37 is:  0.4489795918367347\n",
      "accuracy score corresponding to random state 38 is:  0.5918367346938775\n",
      "accuracy score corresponding to random state 39 is:  0.46938775510204084\n",
      "accuracy score corresponding to random state 40 is:  0.5510204081632653\n",
      "accuracy score corresponding to random state 41 is:  0.42857142857142855\n",
      "accuracy score corresponding to random state 42 is:  0.5510204081632653\n",
      "accuracy score corresponding to random state 43 is:  0.5102040816326531\n",
      "accuracy score corresponding to random state 44 is:  0.5510204081632653\n",
      "accuracy score corresponding to random state 45 is:  0.5510204081632653\n",
      "accuracy score corresponding to random state 46 is:  0.5918367346938775\n",
      "accuracy score corresponding to random state 47 is:  0.5714285714285714\n",
      "accuracy score corresponding to random state 48 is:  0.46938775510204084\n",
      "accuracy score corresponding to random state 49 is:  0.5306122448979592\n",
      "accuracy score corresponding to random state 50 is:  0.4897959183673469\n",
      "accuracy score corresponding to random state 51 is:  0.4897959183673469\n",
      "accuracy score corresponding to random state 52 is:  0.5714285714285714\n",
      "accuracy score corresponding to random state 53 is:  0.5510204081632653\n",
      "accuracy score corresponding to random state 54 is:  0.4897959183673469\n",
      "accuracy score corresponding to random state 55 is:  0.5510204081632653\n",
      "accuracy score corresponding to random state 56 is:  0.5510204081632653\n",
      "accuracy score corresponding to random state 57 is:  0.5918367346938775\n",
      "accuracy score corresponding to random state 58 is:  0.5510204081632653\n",
      "accuracy score corresponding to random state 59 is:  0.5510204081632653\n",
      "accuracy score corresponding to random state 60 is:  0.5510204081632653\n",
      "accuracy score corresponding to random state 61 is:  0.5918367346938775\n",
      "accuracy score corresponding to random state 62 is:  0.6122448979591837\n",
      "accuracy score corresponding to random state 63 is:  0.5306122448979592\n",
      "accuracy score corresponding to random state 64 is:  0.5306122448979592\n",
      "accuracy score corresponding to random state 65 is:  0.5918367346938775\n",
      "accuracy score corresponding to random state 66 is:  0.40816326530612246\n",
      "accuracy score corresponding to random state 67 is:  0.6122448979591837\n",
      "accuracy score corresponding to random state 68 is:  0.5102040816326531\n",
      "accuracy score corresponding to random state 69 is:  0.5306122448979592\n",
      "accuracy score corresponding to random state 70 is:  0.40816326530612246\n",
      "accuracy score corresponding to random state 71 is:  0.5510204081632653\n",
      "accuracy score corresponding to random state 72 is:  0.4897959183673469\n",
      "accuracy score corresponding to random state 73 is:  0.46938775510204084\n",
      "accuracy score corresponding to random state 74 is:  0.4489795918367347\n",
      "accuracy score corresponding to random state 75 is:  0.5102040816326531\n",
      "accuracy score corresponding to random state 76 is:  0.5306122448979592\n",
      "accuracy score corresponding to random state 77 is:  0.5510204081632653\n",
      "accuracy score corresponding to random state 78 is:  0.5918367346938775\n",
      "accuracy score corresponding to random state 79 is:  0.46938775510204084\n",
      "accuracy score corresponding to random state 80 is:  0.46938775510204084\n",
      "accuracy score corresponding to random state 81 is:  0.5306122448979592\n",
      "accuracy score corresponding to random state 82 is:  0.4897959183673469\n",
      "accuracy score corresponding to random state 83 is:  0.6326530612244898\n",
      "accuracy score corresponding to random state 84 is:  0.4897959183673469\n",
      "accuracy score corresponding to random state 85 is:  0.5510204081632653\n",
      "accuracy score corresponding to random state 86 is:  0.6326530612244898\n",
      "accuracy score corresponding to random state 87 is:  0.5510204081632653\n",
      "accuracy score corresponding to random state 88 is:  0.5102040816326531\n",
      "accuracy score corresponding to random state 89 is:  0.5714285714285714\n",
      "accuracy score corresponding to random state 90 is:  0.5102040816326531\n",
      "accuracy score corresponding to random state 91 is:  0.5306122448979592\n",
      "accuracy score corresponding to random state 92 is:  0.46938775510204084\n",
      "accuracy score corresponding to random state 93 is:  0.5918367346938775\n",
      "accuracy score corresponding to random state 94 is:  0.5510204081632653\n",
      "accuracy score corresponding to random state 95 is:  0.5306122448979592\n",
      "accuracy score corresponding to random state 96 is:  0.5714285714285714\n",
      "accuracy score corresponding to random state 97 is:  0.5306122448979592\n",
      "accuracy score corresponding to random state 98 is:  0.5306122448979592\n",
      "accuracy score corresponding to random state 99 is:  0.4897959183673469\n",
      "accuracy score corresponding to random state 100 is:  0.5510204081632653\n",
      "\n",
      "\n",
      "Max accuracy score corresponding to:  34 is:  0.6530612244897959\n",
      "\n",
      "\n",
      "for the algorithm : SVC()\n",
      "accuracy score corresponding to random state 33 is:  0.5306122448979592\n",
      "accuracy score corresponding to random state 34 is:  0.5918367346938775\n",
      "accuracy score corresponding to random state 35 is:  0.7346938775510204\n",
      "accuracy score corresponding to random state 36 is:  0.5306122448979592\n",
      "accuracy score corresponding to random state 37 is:  0.5102040816326531\n",
      "accuracy score corresponding to random state 38 is:  0.7346938775510204\n",
      "accuracy score corresponding to random state 39 is:  0.5918367346938775\n",
      "accuracy score corresponding to random state 40 is:  0.5510204081632653\n",
      "accuracy score corresponding to random state 41 is:  0.5918367346938775\n",
      "accuracy score corresponding to random state 42 is:  0.5714285714285714\n",
      "accuracy score corresponding to random state 43 is:  0.6530612244897959\n",
      "accuracy score corresponding to random state 44 is:  0.6122448979591837\n",
      "accuracy score corresponding to random state 45 is:  0.6122448979591837\n",
      "accuracy score corresponding to random state 46 is:  0.6122448979591837\n",
      "accuracy score corresponding to random state 47 is:  0.673469387755102\n",
      "accuracy score corresponding to random state 48 is:  0.6326530612244898\n",
      "accuracy score corresponding to random state 49 is:  0.6530612244897959\n",
      "accuracy score corresponding to random state 50 is:  0.5510204081632653\n",
      "accuracy score corresponding to random state 51 is:  0.5918367346938775\n",
      "accuracy score corresponding to random state 52 is:  0.5918367346938775\n",
      "accuracy score corresponding to random state 53 is:  0.5306122448979592\n",
      "accuracy score corresponding to random state 54 is:  0.5918367346938775\n",
      "accuracy score corresponding to random state 55 is:  0.5510204081632653\n",
      "accuracy score corresponding to random state 56 is:  0.7142857142857143\n",
      "accuracy score corresponding to random state 57 is:  0.7346938775510204\n",
      "accuracy score corresponding to random state 58 is:  0.6122448979591837\n",
      "accuracy score corresponding to random state 59 is:  0.6326530612244898\n",
      "accuracy score corresponding to random state 60 is:  0.6122448979591837\n",
      "accuracy score corresponding to random state 61 is:  0.5918367346938775\n",
      "accuracy score corresponding to random state 62 is:  0.5510204081632653\n",
      "accuracy score corresponding to random state 63 is:  0.5714285714285714\n",
      "accuracy score corresponding to random state 64 is:  0.5510204081632653\n",
      "accuracy score corresponding to random state 65 is:  0.5510204081632653\n",
      "accuracy score corresponding to random state 66 is:  0.6326530612244898\n",
      "accuracy score corresponding to random state 67 is:  0.6326530612244898\n",
      "accuracy score corresponding to random state 68 is:  0.5102040816326531\n",
      "accuracy score corresponding to random state 69 is:  0.7551020408163265\n",
      "accuracy score corresponding to random state 70 is:  0.6938775510204082\n",
      "accuracy score corresponding to random state 71 is:  0.5102040816326531\n",
      "accuracy score corresponding to random state 72 is:  0.5102040816326531\n",
      "accuracy score corresponding to random state 73 is:  0.6530612244897959\n",
      "accuracy score corresponding to random state 74 is:  0.5714285714285714\n",
      "accuracy score corresponding to random state 75 is:  0.6530612244897959\n",
      "accuracy score corresponding to random state 76 is:  0.5918367346938775\n",
      "accuracy score corresponding to random state 77 is:  0.6530612244897959\n",
      "accuracy score corresponding to random state 78 is:  0.6530612244897959\n",
      "accuracy score corresponding to random state 79 is:  0.5714285714285714\n",
      "accuracy score corresponding to random state 80 is:  0.5102040816326531\n",
      "accuracy score corresponding to random state 81 is:  0.6122448979591837\n",
      "accuracy score corresponding to random state 82 is:  0.5510204081632653\n",
      "accuracy score corresponding to random state 83 is:  0.6326530612244898\n",
      "accuracy score corresponding to random state 84 is:  0.6122448979591837\n",
      "accuracy score corresponding to random state 85 is:  0.6122448979591837\n",
      "accuracy score corresponding to random state 86 is:  0.6326530612244898\n",
      "accuracy score corresponding to random state 87 is:  0.6530612244897959\n",
      "accuracy score corresponding to random state 88 is:  0.6530612244897959\n",
      "accuracy score corresponding to random state 89 is:  0.6122448979591837\n",
      "accuracy score corresponding to random state 90 is:  0.5918367346938775\n",
      "accuracy score corresponding to random state 91 is:  0.6530612244897959\n",
      "accuracy score corresponding to random state 92 is:  0.6326530612244898\n",
      "accuracy score corresponding to random state 93 is:  0.6530612244897959\n",
      "accuracy score corresponding to random state 94 is:  0.6122448979591837\n",
      "accuracy score corresponding to random state 95 is:  0.6938775510204082\n",
      "accuracy score corresponding to random state 96 is:  0.5306122448979592\n",
      "accuracy score corresponding to random state 97 is:  0.6326530612244898\n",
      "accuracy score corresponding to random state 98 is:  0.5918367346938775\n",
      "accuracy score corresponding to random state 99 is:  0.5510204081632653\n",
      "accuracy score corresponding to random state 100 is:  0.6530612244897959\n",
      "\n",
      "\n",
      "Max accuracy score corresponding to:  69 is:  0.7551020408163265\n",
      "\n",
      "\n",
      "for the algorithm : KNeighborsClassifier()\n",
      "accuracy score corresponding to random state 33 is:  0.5306122448979592\n",
      "accuracy score corresponding to random state 34 is:  0.5714285714285714\n",
      "accuracy score corresponding to random state 35 is:  0.8163265306122449\n",
      "accuracy score corresponding to random state 36 is:  0.5102040816326531\n",
      "accuracy score corresponding to random state 37 is:  0.5306122448979592\n",
      "accuracy score corresponding to random state 38 is:  0.7142857142857143\n",
      "accuracy score corresponding to random state 39 is:  0.5918367346938775\n",
      "accuracy score corresponding to random state 40 is:  0.5714285714285714\n",
      "accuracy score corresponding to random state 41 is:  0.5102040816326531\n",
      "accuracy score corresponding to random state 42 is:  0.5714285714285714\n",
      "accuracy score corresponding to random state 43 is:  0.6122448979591837\n",
      "accuracy score corresponding to random state 44 is:  0.6122448979591837\n",
      "accuracy score corresponding to random state 45 is:  0.6530612244897959\n",
      "accuracy score corresponding to random state 46 is:  0.6122448979591837\n",
      "accuracy score corresponding to random state 47 is:  0.6530612244897959\n",
      "accuracy score corresponding to random state 48 is:  0.6326530612244898\n",
      "accuracy score corresponding to random state 49 is:  0.6530612244897959\n",
      "accuracy score corresponding to random state 50 is:  0.5714285714285714\n",
      "accuracy score corresponding to random state 51 is:  0.5918367346938775\n",
      "accuracy score corresponding to random state 52 is:  0.6122448979591837\n",
      "accuracy score corresponding to random state 53 is:  0.5918367346938775\n",
      "accuracy score corresponding to random state 54 is:  0.5510204081632653\n",
      "accuracy score corresponding to random state 55 is:  0.5510204081632653\n",
      "accuracy score corresponding to random state 56 is:  0.6938775510204082\n",
      "accuracy score corresponding to random state 57 is:  0.7551020408163265\n",
      "accuracy score corresponding to random state 58 is:  0.6530612244897959\n",
      "accuracy score corresponding to random state 59 is:  0.6530612244897959\n",
      "accuracy score corresponding to random state 60 is:  0.6326530612244898\n",
      "accuracy score corresponding to random state 61 is:  0.6122448979591837\n",
      "accuracy score corresponding to random state 62 is:  0.5510204081632653\n",
      "accuracy score corresponding to random state 63 is:  0.5306122448979592\n",
      "accuracy score corresponding to random state 64 is:  0.5714285714285714\n",
      "accuracy score corresponding to random state 65 is:  0.673469387755102\n",
      "accuracy score corresponding to random state 66 is:  0.5918367346938775\n",
      "accuracy score corresponding to random state 67 is:  0.6122448979591837\n",
      "accuracy score corresponding to random state 68 is:  0.5714285714285714\n",
      "accuracy score corresponding to random state 69 is:  0.7142857142857143\n",
      "accuracy score corresponding to random state 70 is:  0.6122448979591837\n",
      "accuracy score corresponding to random state 71 is:  0.6122448979591837\n",
      "accuracy score corresponding to random state 72 is:  0.5102040816326531\n",
      "accuracy score corresponding to random state 73 is:  0.673469387755102\n",
      "accuracy score corresponding to random state 74 is:  0.5510204081632653\n",
      "accuracy score corresponding to random state 75 is:  0.5918367346938775\n",
      "accuracy score corresponding to random state 76 is:  0.5918367346938775\n",
      "accuracy score corresponding to random state 77 is:  0.5306122448979592\n",
      "accuracy score corresponding to random state 78 is:  0.673469387755102\n",
      "accuracy score corresponding to random state 79 is:  0.5714285714285714\n",
      "accuracy score corresponding to random state 80 is:  0.6122448979591837\n",
      "accuracy score corresponding to random state 81 is:  0.6530612244897959\n",
      "accuracy score corresponding to random state 82 is:  0.5918367346938775\n",
      "accuracy score corresponding to random state 83 is:  0.6938775510204082\n",
      "accuracy score corresponding to random state 84 is:  0.6122448979591837\n",
      "accuracy score corresponding to random state 85 is:  0.6530612244897959\n",
      "accuracy score corresponding to random state 86 is:  0.6122448979591837\n",
      "accuracy score corresponding to random state 87 is:  0.5714285714285714\n",
      "accuracy score corresponding to random state 88 is:  0.6530612244897959\n",
      "accuracy score corresponding to random state 89 is:  0.6530612244897959\n",
      "accuracy score corresponding to random state 90 is:  0.5918367346938775\n",
      "accuracy score corresponding to random state 91 is:  0.6938775510204082\n",
      "accuracy score corresponding to random state 92 is:  0.6122448979591837\n",
      "accuracy score corresponding to random state 93 is:  0.673469387755102\n",
      "accuracy score corresponding to random state 94 is:  0.6326530612244898\n",
      "accuracy score corresponding to random state 95 is:  0.6530612244897959\n",
      "accuracy score corresponding to random state 96 is:  0.5714285714285714\n",
      "accuracy score corresponding to random state 97 is:  0.6530612244897959\n",
      "accuracy score corresponding to random state 98 is:  0.6326530612244898\n",
      "accuracy score corresponding to random state 99 is:  0.5102040816326531\n",
      "accuracy score corresponding to random state 100 is:  0.6326530612244898\n",
      "\n",
      "\n",
      "Max accuracy score corresponding to:  35 is:  0.8163265306122449\n",
      "\n",
      "\n",
      "for the algorithm : AdaBoostClassifier()\n",
      "accuracy score corresponding to random state 33 is:  0.42857142857142855\n",
      "accuracy score corresponding to random state 34 is:  0.42857142857142855\n",
      "accuracy score corresponding to random state 35 is:  0.6530612244897959\n",
      "accuracy score corresponding to random state 36 is:  0.5714285714285714\n",
      "accuracy score corresponding to random state 37 is:  0.46938775510204084\n",
      "accuracy score corresponding to random state 38 is:  0.22448979591836735\n",
      "accuracy score corresponding to random state 39 is:  0.46938775510204084\n",
      "accuracy score corresponding to random state 40 is:  0.6530612244897959\n",
      "accuracy score corresponding to random state 41 is:  0.5306122448979592\n",
      "accuracy score corresponding to random state 42 is:  0.5102040816326531\n",
      "accuracy score corresponding to random state 43 is:  0.7551020408163265\n",
      "accuracy score corresponding to random state 44 is:  0.5510204081632653\n",
      "accuracy score corresponding to random state 45 is:  0.5306122448979592\n",
      "accuracy score corresponding to random state 46 is:  0.5102040816326531\n",
      "accuracy score corresponding to random state 47 is:  0.6938775510204082\n",
      "accuracy score corresponding to random state 48 is:  0.5918367346938775\n",
      "accuracy score corresponding to random state 49 is:  0.6122448979591837\n",
      "accuracy score corresponding to random state 50 is:  0.5714285714285714\n",
      "accuracy score corresponding to random state 51 is:  0.5306122448979592\n",
      "accuracy score corresponding to random state 52 is:  0.5918367346938775\n",
      "accuracy score corresponding to random state 53 is:  0.5306122448979592\n",
      "accuracy score corresponding to random state 54 is:  0.5510204081632653\n",
      "accuracy score corresponding to random state 55 is:  0.6122448979591837\n",
      "accuracy score corresponding to random state 56 is:  0.5510204081632653\n",
      "accuracy score corresponding to random state 57 is:  0.6938775510204082\n",
      "accuracy score corresponding to random state 58 is:  0.6530612244897959\n",
      "accuracy score corresponding to random state 59 is:  0.6122448979591837\n",
      "accuracy score corresponding to random state 60 is:  0.5714285714285714\n",
      "accuracy score corresponding to random state 61 is:  0.6122448979591837\n",
      "accuracy score corresponding to random state 62 is:  0.46938775510204084\n",
      "accuracy score corresponding to random state 63 is:  0.5714285714285714\n",
      "accuracy score corresponding to random state 64 is:  0.5510204081632653\n",
      "accuracy score corresponding to random state 65 is:  0.5102040816326531\n",
      "accuracy score corresponding to random state 66 is:  0.5510204081632653\n",
      "accuracy score corresponding to random state 67 is:  0.5510204081632653\n",
      "accuracy score corresponding to random state 68 is:  0.4897959183673469\n",
      "accuracy score corresponding to random state 69 is:  0.673469387755102\n",
      "accuracy score corresponding to random state 70 is:  0.5918367346938775\n",
      "accuracy score corresponding to random state 71 is:  0.3469387755102041\n",
      "accuracy score corresponding to random state 72 is:  0.4489795918367347\n",
      "accuracy score corresponding to random state 73 is:  0.6938775510204082\n",
      "accuracy score corresponding to random state 74 is:  0.46938775510204084\n",
      "accuracy score corresponding to random state 75 is:  0.5306122448979592\n",
      "accuracy score corresponding to random state 76 is:  0.6122448979591837\n",
      "accuracy score corresponding to random state 77 is:  0.5306122448979592\n",
      "accuracy score corresponding to random state 78 is:  0.6122448979591837\n",
      "accuracy score corresponding to random state 79 is:  0.2857142857142857\n",
      "accuracy score corresponding to random state 80 is:  0.5102040816326531\n",
      "accuracy score corresponding to random state 81 is:  0.5918367346938775\n",
      "accuracy score corresponding to random state 82 is:  0.6122448979591837\n",
      "accuracy score corresponding to random state 83 is:  0.6122448979591837\n",
      "accuracy score corresponding to random state 84 is:  0.5918367346938775\n",
      "accuracy score corresponding to random state 85 is:  0.5306122448979592\n",
      "accuracy score corresponding to random state 86 is:  0.5918367346938775\n",
      "accuracy score corresponding to random state 87 is:  0.6122448979591837\n",
      "accuracy score corresponding to random state 88 is:  0.42857142857142855\n",
      "accuracy score corresponding to random state 89 is:  0.6326530612244898\n",
      "accuracy score corresponding to random state 90 is:  0.5102040816326531\n",
      "accuracy score corresponding to random state 91 is:  0.6122448979591837\n",
      "accuracy score corresponding to random state 92 is:  0.5510204081632653\n",
      "accuracy score corresponding to random state 93 is:  0.6122448979591837\n",
      "accuracy score corresponding to random state 94 is:  0.5306122448979592\n",
      "accuracy score corresponding to random state 95 is:  0.4897959183673469\n",
      "accuracy score corresponding to random state 96 is:  0.40816326530612246\n",
      "accuracy score corresponding to random state 97 is:  0.5918367346938775\n",
      "accuracy score corresponding to random state 98 is:  0.5510204081632653\n",
      "accuracy score corresponding to random state 99 is:  0.4897959183673469\n",
      "accuracy score corresponding to random state 100 is:  0.5714285714285714\n",
      "\n",
      "\n",
      "Max accuracy score corresponding to:  43 is:  0.7551020408163265\n",
      "\n",
      "\n"
     ]
    }
   ],
   "source": [
    "a=[DecisionTreeClassifier(),SVC(),KNeighborsClassifier(),AdaBoostClassifier()]\n",
    "for j in a:\n",
    "    max_r_score=0\n",
    "    print('for the algorithm :',j)\n",
    "    for i in range(33,101):\n",
    "        x_train,x_test,y_train,y_test=train_test_split(x,y,random_state=i,test_size=.20)\n",
    "        j.fit(x_train,y_train)\n",
    "        pred=j.predict(x_test)\n",
    "        score=j.score(x_train,y_train)\n",
    "        accuracy=accuracy_score(pred,y_test)\n",
    "        print('accuracy score corresponding to random state',i,'is: ',accuracy)\n",
    "        if accuracy>max_r_score:\n",
    "            max_r_score=accuracy\n",
    "            final=i\n",
    "    print('\\n')\n",
    "    print('Max accuracy score corresponding to: ', final,'is: ',max_r_score)\n",
    "    print('\\n')\n",
    "        "
   ]
  },
  {
   "cell_type": "code",
   "execution_count": null,
   "metadata": {},
   "outputs": [],
   "source": [
    "K Neighbors Classifier is working best among all models at random state=35."
   ]
  },
  {
   "cell_type": "code",
   "execution_count": 58,
   "metadata": {},
   "outputs": [
    {
     "name": "stdout",
     "output_type": "stream",
     "text": [
      "Score of random forest is: 0.9945054945054945\n",
      "Accuracy Score:  0.6721311475409836\n",
      "Confusion matrix:  [[32  2  0  0]\n",
      " [ 7  6  1  1]\n",
      " [ 1  2  1  2]\n",
      " [ 2  0  2  2]]\n",
      "Classification report:               precision    recall  f1-score   support\n",
      "\n",
      "           0       0.76      0.94      0.84        34\n",
      "           1       0.60      0.40      0.48        15\n",
      "           2       0.25      0.17      0.20         6\n",
      "           3       0.40      0.33      0.36         6\n",
      "\n",
      "    accuracy                           0.67        61\n",
      "   macro avg       0.50      0.46      0.47        61\n",
      "weighted avg       0.64      0.67      0.64        61\n",
      "\n"
     ]
    }
   ],
   "source": [
    "#Using ensemble technique to boost our score\n",
    "import numpy as np\n",
    "x_train,x_test,y_train,y_test=train_test_split(x,y,test_size=0.25,random_state=52)\n",
    "rf=RandomForestClassifier(criterion='gini',n_estimators=20,random_state=52)\n",
    "rf.fit(x_train,y_train)\n",
    "print('Score of random forest is:',rf.score(x_train,y_train))\n",
    "predict=rf.predict(x_test)\n",
    "print('Accuracy Score: ',accuracy_score(y_test,predict))\n",
    "print('Confusion matrix: ',confusion_matrix(y_test,predict))\n",
    "print('Classification report:',classification_report(y_test,predict))"
   ]
  },
  {
   "cell_type": "code",
   "execution_count": 85,
   "metadata": {},
   "outputs": [
    {
     "data": {
      "text/plain": [
       "{'weights': 'uniform'}"
      ]
     },
     "execution_count": 85,
     "metadata": {},
     "output_type": "execute_result"
    }
   ],
   "source": [
    "from sklearn.model_selection import GridSearchCV\n",
    "knn=KNeighborsClassifier()\n",
    "parameters={\n",
    "           'weights':['uniform','distance',]}\n",
    "cv=GridSearchCV(knn,parameters)\n",
    "cv.fit(x,y)\n",
    "cv.best_params_"
   ]
  },
  {
   "cell_type": "code",
   "execution_count": 87,
   "metadata": {},
   "outputs": [
    {
     "name": "stdout",
     "output_type": "stream",
     "text": [
      "Accuracy score:  0.8163265306122449\n",
      "Confusion Matrix: [[33  4  0  0]\n",
      " [ 0  4  3  2]\n",
      " [ 0  0  1  0]\n",
      " [ 0  0  0  2]]\n",
      "Classification report:               precision    recall  f1-score   support\n",
      "\n",
      "           0       1.00      0.89      0.94        37\n",
      "           1       0.50      0.44      0.47         9\n",
      "           2       0.25      1.00      0.40         1\n",
      "           3       0.50      1.00      0.67         2\n",
      "\n",
      "    accuracy                           0.82        49\n",
      "   macro avg       0.56      0.83      0.62        49\n",
      "weighted avg       0.87      0.82      0.83        49\n",
      "\n"
     ]
    }
   ],
   "source": [
    "#saving the bext model with the parameters mentioned abve:\n",
    "knn=KNeighborsClassifier(n_neighbors=5,weights='uniform')\n",
    "x_train,x_test,y_train,y_test=train_test_split(x,y,random_state=35,test_size=.20)\n",
    "knn.fit(x_train,y_train)\n",
    "pred=knn.predict(x_test)\n",
    "score=knn.score(x_train,y_train)\n",
    "accuracy=accuracy_score(pred,y_test)\n",
    "print('Accuracy score: ',accuracy)\n",
    "print('Confusion Matrix:',confusion_matrix(pred,y_test))\n",
    "print('Classification report:',classification_report(pred,y_test))"
   ]
  },
  {
   "cell_type": "code",
   "execution_count": 90,
   "metadata": {},
   "outputs": [
    {
     "data": {
      "text/plain": [
       "['HeartDisease.pkl']"
      ]
     },
     "execution_count": 90,
     "metadata": {},
     "output_type": "execute_result"
    }
   ],
   "source": [
    "#saving the model using joblib\n",
    "import joblib\n",
    "joblib.dump(knn,'HeartDisease.pkl')"
   ]
  },
  {
   "cell_type": "code",
   "execution_count": null,
   "metadata": {},
   "outputs": [],
   "source": []
  }
 ],
 "metadata": {
  "kernelspec": {
   "display_name": "Python 3",
   "language": "python",
   "name": "python3"
  },
  "language_info": {
   "codemirror_mode": {
    "name": "ipython",
    "version": 3
   },
   "file_extension": ".py",
   "mimetype": "text/x-python",
   "name": "python",
   "nbconvert_exporter": "python",
   "pygments_lexer": "ipython3",
   "version": "3.8.3"
  }
 },
 "nbformat": 4,
 "nbformat_minor": 4
}
